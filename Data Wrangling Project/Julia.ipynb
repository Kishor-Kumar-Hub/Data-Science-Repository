{
 "cells": [
  {
   "cell_type": "markdown",
   "metadata": {},
   "source": [
    "## Julia part (30 marks)"
   ]
  },
  {
   "cell_type": "markdown",
   "metadata": {},
   "source": [
    "In the folder `Penguin_data` you find two datasets (csv formatted files) about at-sea observations of seabirds dating from 1969 to 1990 in New Zealand. You can find more information here: https://catalogue.data.govt.nz/dataset/at-sea-observations-of-seabirds-1969-to-1990\n",
    "\n",
    "This is true-life messy data. Handle with care ;-)\n",
    "\n",
    "Your task for this part is to load the data, wrangle it a bit, and answer a couple of question.\n",
    "\n",
    "_hint_ this is the moment to go back to the Julia notebooks for lab 1 to 4."
   ]
  },
  {
   "cell_type": "markdown",
   "metadata": {},
   "source": [
    "### Load the data (5 marks)"
   ]
  },
  {
   "cell_type": "markdown",
   "metadata": {},
   "source": [
    "Load the two dataset into two separate data frames.\n",
    "\n",
    "_hint_ take a look at the package `CSV.jl` and `DataFrames.jl`."
   ]
  },
  {
   "cell_type": "code",
   "execution_count": 4,
   "metadata": {},
   "outputs": [
    {
     "name": "stderr",
     "output_type": "stream",
     "text": [
      "\u001b[32m\u001b[1m  Resolving\u001b[22m\u001b[39m package versions...\n",
      "\u001b[32m\u001b[1m  Installed\u001b[22m\u001b[39m SentinelArrays ─ v1.2.11\n",
      "\u001b[32m\u001b[1m  Installed\u001b[22m\u001b[39m CSV ──────────── v0.7.7\n",
      "\u001b[32m\u001b[1m   Updating\u001b[22m\u001b[39m `C:\\Users\\Kishor\\.julia\\environments\\v1.4\\Project.toml`\n",
      " \u001b[90m [336ed68f]\u001b[39m\u001b[92m + CSV v0.7.7\u001b[39m\n",
      "\u001b[32m\u001b[1m   Updating\u001b[22m\u001b[39m `C:\\Users\\Kishor\\.julia\\environments\\v1.4\\Manifest.toml`\n",
      " \u001b[90m [336ed68f]\u001b[39m\u001b[92m + CSV v0.7.7\u001b[39m\n",
      " \u001b[90m [91c51154]\u001b[39m\u001b[92m + SentinelArrays v1.2.11\u001b[39m\n",
      "┌ Info: Precompiling CSV [336ed68f-0bac-5ca0-87d4-7b16caf5d00b]\n",
      "└ @ Base loading.jl:1260\n",
      "┌ Info: Precompiling Query [1a8c2f83-1ff3-5112-b086-8aa67b057ba1]\n",
      "└ @ Base loading.jl:1260\n"
     ]
    }
   ],
   "source": [
    "using Pkg #Loading the Libraries\n",
    "using CSVFiles\n",
    "using DataFrames\n",
    "using CSV\n",
    "using Query\n",
    "using Dates"
   ]
  },
  {
   "cell_type": "code",
   "execution_count": null,
   "metadata": {},
   "outputs": [],
   "source": []
  },
  {
   "cell_type": "markdown",
   "metadata": {},
   "source": [
    "### Join the data (5 marks)"
   ]
  },
  {
   "cell_type": "markdown",
   "metadata": {},
   "source": [
    "Join the two dataframes into one.\n",
    "\n",
    "_hint_ there is one column being an ID: which one?"
   ]
  },
  {
   "cell_type": "code",
   "execution_count": 5,
   "metadata": {},
   "outputs": [
    {
     "name": "stderr",
     "output_type": "stream",
     "text": [
      "┌ Warning: `CSV.read(input; kw...)` is deprecated in favor of `using DataFrames; CSV.read(input, DataFrame; kw...)\n",
      "│   caller = read(::String) at CSV.jl:40\n",
      "└ @ CSV C:\\Users\\Kishor\\.julia\\packages\\CSV\\MKemC\\src\\CSV.jl:40\n"
     ]
    },
    {
     "data": {
      "text/plain": [
       "29-element Array{String,1}:\n",
       " \"RECORD\"\n",
       " \"RECORDID\"\n",
       " \"DATE\"\n",
       " \"TIME\"\n",
       " \"LAT\"\n",
       " \"LONG\"\n",
       " \"EW\"\n",
       " \"SACT\"\n",
       " \"SPEED\"\n",
       " \"SDIR\"\n",
       " \"CLD\"\n",
       " \"PREC\"\n",
       " \"WSPEED\"\n",
       " ⋮\n",
       " \"STMP\"\n",
       " \"SAL\"\n",
       " \"DEPTH\"\n",
       " \"OBS\"\n",
       " \"CSMETH\"\n",
       " \"MONTH\"\n",
       " \"SEASN\"\n",
       " \"LONG360\"\n",
       " \"LATCELL\"\n",
       " \"LONGECELL\"\n",
       " \"Column28\"\n",
       " \"Column29\""
      ]
     },
     "execution_count": 5,
     "metadata": {},
     "output_type": "execute_result"
    }
   ],
   "source": [
    "penguin = DataFrame(load(\"Penguin_dataBird_data.csv\"))\n",
    "data = CSV.read(\"Penguin_dataShip_data.csv\")\n",
    "ship = DataFrame(data)\n",
    "names(penguin) #It displays the names in the df\n",
    "names(ship)"
   ]
  },
  {
   "cell_type": "code",
   "execution_count": 6,
   "metadata": {},
   "outputs": [
    {
     "name": "stderr",
     "output_type": "stream",
     "text": [
      "┌ Warning: inner joining data frames using join is deprecated, use `innerjoin(df1, df2, on=RECORDID, makeunique=true, validate=(false, false))` instead\n",
      "│   caller = ip:0x0\n",
      "└ @ Core :-1\n"
     ]
    },
    {
     "data": {
      "text/html": [
       "<table class=\"data-frame\"><thead><tr><th></th><th>RECORD</th><th>RECORDID</th><th>SpeciesCommonName</th><th>SpeciesScientificName</th></tr><tr><th></th><th>Int64</th><th>Int64</th><th>String</th><th>String</th></tr></thead><tbody><p>49,018 rows × 55 columns (omitted printing of 51 columns)</p><tr><th>1</th><td>1</td><td>1083001</td><td>Royal / Wandering albatross</td><td>Diomedea epomophora / sanfordi / antipodensis / exulans </td></tr><tr><th>2</th><td>2</td><td>1083001</td><td>Black-browed albatross sensu lato</td><td>Diomedea impavida / melanophrys</td></tr><tr><th>3</th><td>3</td><td>1083001</td><td>Cape petrel</td><td>Daption capense </td></tr><tr><th>4</th><td>4</td><td>1083001</td><td>Fairy prion</td><td>Pachyptila turtur </td></tr><tr><th>5</th><td>5</td><td>1083001</td><td>Sooty shearwater</td><td>Puffinus griseus </td></tr><tr><th>6</th><td>6</td><td>1084001</td><td>Royal albatross sensu lato </td><td>Diomedea epomophora / sanfordi</td></tr><tr><th>7</th><td>7</td><td>1084001</td><td>Black-browed albatross sensu lato</td><td>Diomedea impavida / melanophrys</td></tr><tr><th>8</th><td>8</td><td>1084001</td><td>Sooty shearwater</td><td>Puffinus griseus </td></tr><tr><th>9</th><td>9</td><td>1084002</td><td>Royal albatross sensu lato </td><td>Diomedea epomophora / sanfordi</td></tr><tr><th>10</th><td>10</td><td>1084002</td><td>Black-browed albatross sensu lato</td><td>Diomedea impavida / melanophrys</td></tr><tr><th>11</th><td>11</td><td>1084002</td><td>Cape petrel</td><td>Daption capense </td></tr><tr><th>12</th><td>12</td><td>1084002</td><td>Prion (unidentified)</td><td>Pachyptila sp</td></tr><tr><th>13</th><td>13</td><td>1084002</td><td>Sooty shearwater</td><td>Puffinus griseus </td></tr><tr><th>14</th><td>14</td><td>1084002</td><td>Seabird (Unidentified)</td><td></td></tr><tr><th>15</th><td>15</td><td>1084003</td><td>Royal albatross sensu lato </td><td>Diomedea epomophora / sanfordi</td></tr><tr><th>16</th><td>16</td><td>1084003</td><td>Black-browed albatross sensu lato</td><td>Diomedea impavida / melanophrys</td></tr><tr><th>17</th><td>17</td><td>1084003</td><td>Giant petrel sensu lato</td><td>Macronectes sp.</td></tr><tr><th>18</th><td>18</td><td>1084003</td><td>Cape petrel</td><td>Daption capense </td></tr><tr><th>19</th><td>19</td><td>1084003</td><td>Fairy prion</td><td>Pachyptila turtur </td></tr><tr><th>20</th><td>20</td><td>1086001</td><td>Fairy prion</td><td>Pachyptila turtur </td></tr><tr><th>21</th><td>21</td><td>1086001</td><td>Black petrel</td><td>Procellaria parkinsoni </td></tr><tr><th>22</th><td>22</td><td>1086001</td><td>Australasian gannet</td><td>Morus serrator </td></tr><tr><th>23</th><td>23</td><td>1086002</td><td>Wilson's storm petrel</td><td>Oceanites oceanicus </td></tr><tr><th>24</th><td>24</td><td>1086002</td><td>Australasian gannet</td><td>Morus serrator </td></tr><tr><th>25</th><td>25</td><td>1086003</td><td>Wandering albatross sensu lato AD</td><td>Diomedea antipodensis / exulans AD</td></tr><tr><th>26</th><td>26</td><td>1086003</td><td>Wandering albatross sensu lato JUV</td><td>Diomedea antipodensis / exulans JUV</td></tr><tr><th>27</th><td>27</td><td>1086003</td><td>Royal albatross sensu lato AD</td><td>Diomedea epomophora / sanfordi AD</td></tr><tr><th>28</th><td>28</td><td>1086003</td><td>Northern giant petrel</td><td>Macronectes halli </td></tr><tr><th>29</th><td>29</td><td>1086003</td><td>White-chinned petrel</td><td>Procellaria aequinoctialis </td></tr><tr><th>30</th><td>30</td><td>1086003</td><td>Sooty shearwater</td><td>Puffinus griseus </td></tr><tr><th>&vellip;</th><td>&vellip;</td><td>&vellip;</td><td>&vellip;</td><td>&vellip;</td></tr></tbody></table>"
      ],
      "text/latex": [
       "\\begin{tabular}{r|ccccc}\n",
       "\t& RECORD & RECORDID & SpeciesCommonName & SpeciesScientificName & \\\\\n",
       "\t\\hline\n",
       "\t& Int64 & Int64 & String & String & \\\\\n",
       "\t\\hline\n",
       "\t1 & 1 & 1083001 & Royal / Wandering albatross & Diomedea epomophora / sanfordi / antipodensis / exulans  & $\\dots$ \\\\\n",
       "\t2 & 2 & 1083001 & Black-browed albatross sensu lato & Diomedea impavida / melanophrys & $\\dots$ \\\\\n",
       "\t3 & 3 & 1083001 & Cape petrel & Daption capense  & $\\dots$ \\\\\n",
       "\t4 & 4 & 1083001 & Fairy prion & Pachyptila turtur  & $\\dots$ \\\\\n",
       "\t5 & 5 & 1083001 & Sooty shearwater & Puffinus griseus  & $\\dots$ \\\\\n",
       "\t6 & 6 & 1084001 & Royal albatross sensu lato  & Diomedea epomophora / sanfordi & $\\dots$ \\\\\n",
       "\t7 & 7 & 1084001 & Black-browed albatross sensu lato & Diomedea impavida / melanophrys & $\\dots$ \\\\\n",
       "\t8 & 8 & 1084001 & Sooty shearwater & Puffinus griseus  & $\\dots$ \\\\\n",
       "\t9 & 9 & 1084002 & Royal albatross sensu lato  & Diomedea epomophora / sanfordi & $\\dots$ \\\\\n",
       "\t10 & 10 & 1084002 & Black-browed albatross sensu lato & Diomedea impavida / melanophrys & $\\dots$ \\\\\n",
       "\t11 & 11 & 1084002 & Cape petrel & Daption capense  & $\\dots$ \\\\\n",
       "\t12 & 12 & 1084002 & Prion (unidentified) & Pachyptila sp & $\\dots$ \\\\\n",
       "\t13 & 13 & 1084002 & Sooty shearwater & Puffinus griseus  & $\\dots$ \\\\\n",
       "\t14 & 14 & 1084002 & Seabird (Unidentified) &  & $\\dots$ \\\\\n",
       "\t15 & 15 & 1084003 & Royal albatross sensu lato  & Diomedea epomophora / sanfordi & $\\dots$ \\\\\n",
       "\t16 & 16 & 1084003 & Black-browed albatross sensu lato & Diomedea impavida / melanophrys & $\\dots$ \\\\\n",
       "\t17 & 17 & 1084003 & Giant petrel sensu lato & Macronectes sp. & $\\dots$ \\\\\n",
       "\t18 & 18 & 1084003 & Cape petrel & Daption capense  & $\\dots$ \\\\\n",
       "\t19 & 19 & 1084003 & Fairy prion & Pachyptila turtur  & $\\dots$ \\\\\n",
       "\t20 & 20 & 1086001 & Fairy prion & Pachyptila turtur  & $\\dots$ \\\\\n",
       "\t21 & 21 & 1086001 & Black petrel & Procellaria parkinsoni  & $\\dots$ \\\\\n",
       "\t22 & 22 & 1086001 & Australasian gannet & Morus serrator  & $\\dots$ \\\\\n",
       "\t23 & 23 & 1086002 & Wilson's storm petrel & Oceanites oceanicus  & $\\dots$ \\\\\n",
       "\t24 & 24 & 1086002 & Australasian gannet & Morus serrator  & $\\dots$ \\\\\n",
       "\t25 & 25 & 1086003 & Wandering albatross sensu lato AD & Diomedea antipodensis / exulans AD & $\\dots$ \\\\\n",
       "\t26 & 26 & 1086003 & Wandering albatross sensu lato JUV & Diomedea antipodensis / exulans JUV & $\\dots$ \\\\\n",
       "\t27 & 27 & 1086003 & Royal albatross sensu lato AD & Diomedea epomophora / sanfordi AD & $\\dots$ \\\\\n",
       "\t28 & 28 & 1086003 & Northern giant petrel & Macronectes halli  & $\\dots$ \\\\\n",
       "\t29 & 29 & 1086003 & White-chinned petrel & Procellaria aequinoctialis  & $\\dots$ \\\\\n",
       "\t30 & 30 & 1086003 & Sooty shearwater & Puffinus griseus  & $\\dots$ \\\\\n",
       "\t$\\dots$ & $\\dots$ & $\\dots$ & $\\dots$ & $\\dots$ &  \\\\\n",
       "\\end{tabular}\n"
      ],
      "text/plain": [
       "49018×55 DataFrame. Omitted printing of 52 columns\n",
       "│ Row   │ RECORD │ RECORDID │ SpeciesCommonName                 │\n",
       "│       │ \u001b[90mInt64\u001b[39m  │ \u001b[90mInt64\u001b[39m    │ \u001b[90mString\u001b[39m                            │\n",
       "├───────┼────────┼──────────┼───────────────────────────────────┤\n",
       "│ 1     │ 1      │ 1083001  │ Royal / Wandering albatross       │\n",
       "│ 2     │ 2      │ 1083001  │ Black-browed albatross sensu lato │\n",
       "│ 3     │ 3      │ 1083001  │ Cape petrel                       │\n",
       "│ 4     │ 4      │ 1083001  │ Fairy prion                       │\n",
       "│ 5     │ 5      │ 1083001  │ Sooty shearwater                  │\n",
       "│ 6     │ 6      │ 1084001  │ Royal albatross sensu lato        │\n",
       "│ 7     │ 7      │ 1084001  │ Black-browed albatross sensu lato │\n",
       "│ 8     │ 8      │ 1084001  │ Sooty shearwater                  │\n",
       "│ 9     │ 9      │ 1084002  │ Royal albatross sensu lato        │\n",
       "│ 10    │ 10     │ 1084002  │ Black-browed albatross sensu lato │\n",
       "⋮\n",
       "│ 49008 │ 49009  │ 88007034 │ Southern black-backed gull AD     │\n",
       "│ 49009 │ 49010  │ 88007034 │ Southern black-backed gull SUBAD  │\n",
       "│ 49010 │ 49011  │ 88007034 │ Red-billed gull                   │\n",
       "│ 49011 │ 49012  │ 88007035 │ Australasian gannet AD            │\n",
       "│ 49012 │ 49013  │ 88007035 │ Southern black-backed gull AD     │\n",
       "│ 49013 │ 49014  │ 88007035 │ Southern black-backed gull SUBAD  │\n",
       "│ 49014 │ 49015  │ 88007035 │ Red-billed gull                   │\n",
       "│ 49015 │ 49016  │ 88007036 │ Southern black-backed gull AD     │\n",
       "│ 49016 │ 49017  │ 88007036 │ Southern black-backed gull SUBAD  │\n",
       "│ 49017 │ 49018  │ 88007036 │ Red-billed gull                   │\n",
       "│ 49018 │ 49019  │ 88007036 │ White-fronted tern                │"
      ]
     },
     "execution_count": 6,
     "metadata": {},
     "output_type": "execute_result"
    }
   ],
   "source": [
    "joined_dataframe = join(penguin,ship, on = :RECORDID,makeunique = true) #Merging Two Files Together"
   ]
  },
  {
   "cell_type": "code",
   "execution_count": null,
   "metadata": {},
   "outputs": [],
   "source": []
  },
  {
   "cell_type": "markdown",
   "metadata": {},
   "source": [
    "### Question 1 (10 marks)"
   ]
  },
  {
   "cell_type": "markdown",
   "metadata": {},
   "source": [
    "In which season would say we see more Little penguins?\n",
    "\n",
    "_hint_ their scientific name is _Eudyptula minor_ and their Species abbreviation is \"EUDMIN\".\n",
    "\n",
    "_hint_ you may want to use the package `Query.jl`."
   ]
  },
  {
   "cell_type": "code",
   "execution_count": 10,
   "metadata": {},
   "outputs": [
    {
     "data": {
      "text/html": [
       "<table class=\"data-frame\"><thead><tr><th></th><th>RECORD</th><th>RECORDID</th><th>SpeciesCommonName</th><th>SpeciesScientificName</th><th>SpeciesAbbreviation</th></tr><tr><th></th><th>Int64</th><th>Int64</th><th>String</th><th>String</th><th>String</th></tr></thead><tbody><p>41 rows × 55 columns (omitted printing of 50 columns)</p><tr><th>1</th><td>1888</td><td>2112026</td><td>Little penguin</td><td>Eudyptula minor </td><td>EUDMIN</td></tr><tr><th>2</th><td>4913</td><td>4122006</td><td>Little penguin</td><td>Eudyptula minor </td><td>EUDMIN</td></tr><tr><th>3</th><td>5261</td><td>4127001</td><td>Little penguin</td><td>Eudyptula minor </td><td>EUDMIN</td></tr><tr><th>4</th><td>5516</td><td>4132005</td><td>Little penguin</td><td>Eudyptula minor </td><td>EUDMIN</td></tr><tr><th>5</th><td>8335</td><td>5112002</td><td>Little penguin</td><td>Eudyptula minor </td><td>EUDMIN</td></tr><tr><th>6</th><td>9061</td><td>6001005</td><td>Little penguin</td><td>Eudyptula minor </td><td>EUDMIN</td></tr><tr><th>7</th><td>12794</td><td>6100001</td><td>Little penguin</td><td>Eudyptula minor </td><td>EUDMIN</td></tr><tr><th>8</th><td>15546</td><td>7097003</td><td>Little penguin</td><td>Eudyptula minor </td><td>EUDMIN</td></tr><tr><th>9</th><td>17782</td><td>8035001</td><td>Little penguin</td><td>Eudyptula minor </td><td>EUDMIN</td></tr><tr><th>10</th><td>18651</td><td>8081001</td><td>Little penguin</td><td>Eudyptula minor </td><td>EUDMIN</td></tr><tr><th>11</th><td>18691</td><td>8081005</td><td>Little penguin</td><td>Eudyptula minor </td><td>EUDMIN</td></tr><tr><th>12</th><td>18746</td><td>8082006</td><td>Little penguin</td><td>Eudyptula minor </td><td>EUDMIN</td></tr><tr><th>13</th><td>20321</td><td>9057001</td><td>Little penguin</td><td>Eudyptula minor </td><td>EUDMIN</td></tr><tr><th>14</th><td>20387</td><td>9057006</td><td>Little penguin</td><td>Eudyptula minor </td><td>EUDMIN</td></tr><tr><th>15</th><td>20477</td><td>9058009</td><td>Little penguin</td><td>Eudyptula minor </td><td>EUDMIN</td></tr><tr><th>16</th><td>20521</td><td>9060001</td><td>Little penguin</td><td>Eudyptula minor </td><td>EUDMIN</td></tr><tr><th>17</th><td>21147</td><td>10051001</td><td>Little penguin</td><td>Eudyptula minor </td><td>EUDMIN</td></tr><tr><th>18</th><td>23302</td><td>11034005</td><td>Little penguin</td><td>Eudyptula minor </td><td>EUDMIN</td></tr><tr><th>19</th><td>24018</td><td>12025001</td><td>Little penguin</td><td>Eudyptula minor </td><td>EUDMIN</td></tr><tr><th>20</th><td>24336</td><td>13001001</td><td>Little penguin</td><td>Eudyptula minor </td><td>EUDMIN</td></tr><tr><th>21</th><td>24551</td><td>13004005</td><td>Little penguin</td><td>Eudyptula minor </td><td>EUDMIN</td></tr><tr><th>22</th><td>24589</td><td>13005004</td><td>Little penguin</td><td>Eudyptula minor </td><td>EUDMIN</td></tr><tr><th>23</th><td>25240</td><td>14011004</td><td>Little penguin</td><td>Eudyptula minor </td><td>EUDMIN</td></tr><tr><th>24</th><td>25354</td><td>14014002</td><td>Little penguin</td><td>Eudyptula minor </td><td>EUDMIN</td></tr><tr><th>25</th><td>25381</td><td>14014004</td><td>Little penguin</td><td>Eudyptula minor </td><td>EUDMIN</td></tr><tr><th>26</th><td>27412</td><td>61002042</td><td>Little penguin</td><td>Eudyptula minor </td><td>EUDMIN</td></tr><tr><th>27</th><td>31311</td><td>65010096</td><td>Little penguin</td><td>Eudyptula minor </td><td>EUDMIN</td></tr><tr><th>28</th><td>31647</td><td>65011108</td><td>Little penguin</td><td>Eudyptula minor </td><td>EUDMIN</td></tr><tr><th>29</th><td>31660</td><td>65014003</td><td>Little penguin</td><td>Eudyptula minor </td><td>EUDMIN</td></tr><tr><th>30</th><td>31670</td><td>65014006</td><td>Little penguin</td><td>Eudyptula minor </td><td>EUDMIN</td></tr><tr><th>&vellip;</th><td>&vellip;</td><td>&vellip;</td><td>&vellip;</td><td>&vellip;</td><td>&vellip;</td></tr></tbody></table>"
      ],
      "text/latex": [
       "\\begin{tabular}{r|cccccc}\n",
       "\t& RECORD & RECORDID & SpeciesCommonName & SpeciesScientificName & SpeciesAbbreviation & \\\\\n",
       "\t\\hline\n",
       "\t& Int64 & Int64 & String & String & String & \\\\\n",
       "\t\\hline\n",
       "\t1 & 1888 & 2112026 & Little penguin & Eudyptula minor  & EUDMIN & $\\dots$ \\\\\n",
       "\t2 & 4913 & 4122006 & Little penguin & Eudyptula minor  & EUDMIN & $\\dots$ \\\\\n",
       "\t3 & 5261 & 4127001 & Little penguin & Eudyptula minor  & EUDMIN & $\\dots$ \\\\\n",
       "\t4 & 5516 & 4132005 & Little penguin & Eudyptula minor  & EUDMIN & $\\dots$ \\\\\n",
       "\t5 & 8335 & 5112002 & Little penguin & Eudyptula minor  & EUDMIN & $\\dots$ \\\\\n",
       "\t6 & 9061 & 6001005 & Little penguin & Eudyptula minor  & EUDMIN & $\\dots$ \\\\\n",
       "\t7 & 12794 & 6100001 & Little penguin & Eudyptula minor  & EUDMIN & $\\dots$ \\\\\n",
       "\t8 & 15546 & 7097003 & Little penguin & Eudyptula minor  & EUDMIN & $\\dots$ \\\\\n",
       "\t9 & 17782 & 8035001 & Little penguin & Eudyptula minor  & EUDMIN & $\\dots$ \\\\\n",
       "\t10 & 18651 & 8081001 & Little penguin & Eudyptula minor  & EUDMIN & $\\dots$ \\\\\n",
       "\t11 & 18691 & 8081005 & Little penguin & Eudyptula minor  & EUDMIN & $\\dots$ \\\\\n",
       "\t12 & 18746 & 8082006 & Little penguin & Eudyptula minor  & EUDMIN & $\\dots$ \\\\\n",
       "\t13 & 20321 & 9057001 & Little penguin & Eudyptula minor  & EUDMIN & $\\dots$ \\\\\n",
       "\t14 & 20387 & 9057006 & Little penguin & Eudyptula minor  & EUDMIN & $\\dots$ \\\\\n",
       "\t15 & 20477 & 9058009 & Little penguin & Eudyptula minor  & EUDMIN & $\\dots$ \\\\\n",
       "\t16 & 20521 & 9060001 & Little penguin & Eudyptula minor  & EUDMIN & $\\dots$ \\\\\n",
       "\t17 & 21147 & 10051001 & Little penguin & Eudyptula minor  & EUDMIN & $\\dots$ \\\\\n",
       "\t18 & 23302 & 11034005 & Little penguin & Eudyptula minor  & EUDMIN & $\\dots$ \\\\\n",
       "\t19 & 24018 & 12025001 & Little penguin & Eudyptula minor  & EUDMIN & $\\dots$ \\\\\n",
       "\t20 & 24336 & 13001001 & Little penguin & Eudyptula minor  & EUDMIN & $\\dots$ \\\\\n",
       "\t21 & 24551 & 13004005 & Little penguin & Eudyptula minor  & EUDMIN & $\\dots$ \\\\\n",
       "\t22 & 24589 & 13005004 & Little penguin & Eudyptula minor  & EUDMIN & $\\dots$ \\\\\n",
       "\t23 & 25240 & 14011004 & Little penguin & Eudyptula minor  & EUDMIN & $\\dots$ \\\\\n",
       "\t24 & 25354 & 14014002 & Little penguin & Eudyptula minor  & EUDMIN & $\\dots$ \\\\\n",
       "\t25 & 25381 & 14014004 & Little penguin & Eudyptula minor  & EUDMIN & $\\dots$ \\\\\n",
       "\t26 & 27412 & 61002042 & Little penguin & Eudyptula minor  & EUDMIN & $\\dots$ \\\\\n",
       "\t27 & 31311 & 65010096 & Little penguin & Eudyptula minor  & EUDMIN & $\\dots$ \\\\\n",
       "\t28 & 31647 & 65011108 & Little penguin & Eudyptula minor  & EUDMIN & $\\dots$ \\\\\n",
       "\t29 & 31660 & 65014003 & Little penguin & Eudyptula minor  & EUDMIN & $\\dots$ \\\\\n",
       "\t30 & 31670 & 65014006 & Little penguin & Eudyptula minor  & EUDMIN & $\\dots$ \\\\\n",
       "\t$\\dots$ & $\\dots$ & $\\dots$ & $\\dots$ & $\\dots$ & $\\dots$ &  \\\\\n",
       "\\end{tabular}\n"
      ],
      "text/plain": [
       "41×55 DataFrame. Omitted printing of 51 columns\n",
       "│ Row │ RECORD │ RECORDID │ SpeciesCommonName │ SpeciesScientificName │\n",
       "│     │ \u001b[90mInt64\u001b[39m  │ \u001b[90mInt64\u001b[39m    │ \u001b[90mString\u001b[39m            │ \u001b[90mString\u001b[39m                │\n",
       "├─────┼────────┼──────────┼───────────────────┼───────────────────────┤\n",
       "│ 1   │ 1888   │ 2112026  │ Little penguin    │ Eudyptula minor       │\n",
       "│ 2   │ 4913   │ 4122006  │ Little penguin    │ Eudyptula minor       │\n",
       "│ 3   │ 5261   │ 4127001  │ Little penguin    │ Eudyptula minor       │\n",
       "│ 4   │ 5516   │ 4132005  │ Little penguin    │ Eudyptula minor       │\n",
       "│ 5   │ 8335   │ 5112002  │ Little penguin    │ Eudyptula minor       │\n",
       "│ 6   │ 9061   │ 6001005  │ Little penguin    │ Eudyptula minor       │\n",
       "│ 7   │ 12794  │ 6100001  │ Little penguin    │ Eudyptula minor       │\n",
       "│ 8   │ 15546  │ 7097003  │ Little penguin    │ Eudyptula minor       │\n",
       "│ 9   │ 17782  │ 8035001  │ Little penguin    │ Eudyptula minor       │\n",
       "│ 10  │ 18651  │ 8081001  │ Little penguin    │ Eudyptula minor       │\n",
       "⋮\n",
       "│ 31  │ 33898  │ 69006003 │ Little penguin    │ Eudyptula minor       │\n",
       "│ 32  │ 33906  │ 69006004 │ Little penguin    │ Eudyptula minor       │\n",
       "│ 33  │ 35195  │ 69024010 │ Little penguin    │ Eudyptula minor       │\n",
       "│ 34  │ 35293  │ 84001004 │ Little penguin    │ Eudyptula minor       │\n",
       "│ 35  │ 35303  │ 84001007 │ Little penguin    │ Eudyptula minor       │\n",
       "│ 36  │ 35433  │ 84002001 │ Little penguin    │ Eudyptula minor       │\n",
       "│ 37  │ 35459  │ 84002005 │ Little penguin    │ Eudyptula minor       │\n",
       "│ 38  │ 36954  │ 84018002 │ Little penguin    │ Eudyptula minor       │\n",
       "│ 39  │ 39588  │ 85023009 │ Little penguin    │ Eudyptula minor       │\n",
       "│ 40  │ 40570  │ 85034024 │ Little penguin    │ Eudyptula minor       │\n",
       "│ 41  │ 46406  │ 87026022 │ Little penguin    │ Eudyptula minor       │"
      ]
     },
     "execution_count": 10,
     "metadata": {},
     "output_type": "execute_result"
    }
   ],
   "source": [
    "filtered = joined_dataframe |>\n",
    "    @filter(_.SpeciesAbbreviation == \"EUDMIN\") |>\n",
    "    DataFrame"
   ]
  },
  {
   "cell_type": "markdown",
   "metadata": {},
   "source": [
    "### Question 2 (10 marks)"
   ]
  },
  {
   "cell_type": "markdown",
   "metadata": {},
   "source": [
    "How does the sighting of penguins (not just Little penguins, but all penguins species) change by year? Make a plot to show it."
   ]
  },
  {
   "cell_type": "code",
   "execution_count": 4,
   "metadata": {},
   "outputs": [],
   "source": [
    "# your code goes here."
   ]
  }
 ],
 "metadata": {
  "kernelspec": {
   "display_name": "Julia 1.4.2",
   "language": "julia",
   "name": "julia-1.4"
  },
  "language_info": {
   "file_extension": ".jl",
   "mimetype": "application/julia",
   "name": "julia",
   "version": "1.4.2"
  }
 },
 "nbformat": 4,
 "nbformat_minor": 4
}
