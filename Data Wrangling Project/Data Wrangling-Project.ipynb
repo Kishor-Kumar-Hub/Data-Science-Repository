{
 "cells": [
  {
   "cell_type": "markdown",
   "metadata": {},
   "source": [
    "\n",
    "### Data Wrangling\n",
    "\n",
    "### KISHOR KUMAR SELVAKUMAR RANI\n",
    "\n",
    "\n"
   ]
  },
  {
   "cell_type": "markdown",
   "metadata": {},
   "source": [
    "## Instruction\n",
    "\n",
    "For this assignment you will work with a _.csv_ data-set. Your goal is to read it in, wrangle it, produce some plotting, in order to demonstrate that you are able to use the functions, plotting, and markdown format we have been learning.  \n",
    "You shall hand in your work as a jupyter-lab R notebook (for the R part, and jupyter-lab Julia notebook for the Julia part) comprehending the code, the plots and, **very important**, enough comments and explanations for us to understand what you did, how you did it, and why you did it. Remember: no comments, no marks.  \n",
    "You can either modify this notebook or write a new one from scratch: in that case, clearly indicate which question you are asking at each step. Notice that you may well want to **use more than one cell** per answer (using some cell for the code, some for the text, and so forth)."
   ]
  },
  {
   "cell_type": "markdown",
   "metadata": {},
   "source": [
    "The first thing you may want to do is to load **tidyverse**:"
   ]
  },
  {
   "cell_type": "code",
   "execution_count": 1,
   "metadata": {},
   "outputs": [
    {
     "name": "stderr",
     "output_type": "stream",
     "text": [
      "-- \u001b[1mAttaching packages\u001b[22m --------------------------------------- tidyverse 1.3.0 --\n",
      "\n",
      "\u001b[32mv\u001b[39m \u001b[34mggplot2\u001b[39m 3.3.2     \u001b[32mv\u001b[39m \u001b[34mpurrr  \u001b[39m 0.3.4\n",
      "\u001b[32mv\u001b[39m \u001b[34mtibble \u001b[39m 3.0.3     \u001b[32mv\u001b[39m \u001b[34mdplyr  \u001b[39m 1.0.0\n",
      "\u001b[32mv\u001b[39m \u001b[34mtidyr  \u001b[39m 1.1.0     \u001b[32mv\u001b[39m \u001b[34mstringr\u001b[39m 1.4.0\n",
      "\u001b[32mv\u001b[39m \u001b[34mreadr  \u001b[39m 1.3.1     \u001b[32mv\u001b[39m \u001b[34mforcats\u001b[39m 0.5.0\n",
      "\n",
      "-- \u001b[1mConflicts\u001b[22m ------------------------------------------ tidyverse_conflicts() --\n",
      "\u001b[31mx\u001b[39m \u001b[34mdplyr\u001b[39m::\u001b[32mfilter()\u001b[39m masks \u001b[34mstats\u001b[39m::filter()\n",
      "\u001b[31mx\u001b[39m \u001b[34mdplyr\u001b[39m::\u001b[32mlag()\u001b[39m    masks \u001b[34mstats\u001b[39m::lag()\n",
      "\n"
     ]
    }
   ],
   "source": [
    "library(tidyverse)"
   ]
  },
  {
   "cell_type": "markdown",
   "metadata": {},
   "source": [
    "### Task (a): import (5 marks)\n",
    "\n",
    "Import the **hour.csv** dataset into R as a dataframe (we'll call it `bike_df`, but you can call it what you want). You can read about the dataset in the file `DataSet_Dictionary.txt`. (Alternatively, you might use your own .csv dataset of choice, but talk with me about it before doing it). \n",
    "\n",
    "Then perform the routine checks about the types of the columns, the missing values, and output a quick summary of the dataset.\n",
    "\n",
    "_hint_ useful functions: `read_csv()`, `glimpse()`  \n",
    "_hint_ useful libraries: `tidyverse`, `readr`, `skimr`, `vis_dat`"
   ]
  },
  {
   "cell_type": "code",
   "execution_count": null,
   "metadata": {},
   "outputs": [],
   "source": [
    "#read_csv is used to read the give hour.csv file as dataframe.\n",
    "#Datatypes of the columns are made appropriate while reading the csv file."
   ]
  },
  {
   "cell_type": "code",
   "execution_count": 3,
   "metadata": {},
   "outputs": [
    {
     "data": {
      "text/html": [
       "<table>\n",
       "<caption>A tibble: 6 × 17</caption>\n",
       "<thead>\n",
       "\t<tr><th scope=col>instant</th><th scope=col>dteday</th><th scope=col>season</th><th scope=col>yr</th><th scope=col>mnth</th><th scope=col>hr</th><th scope=col>holiday</th><th scope=col>weekday</th><th scope=col>workingday</th><th scope=col>weathersit</th><th scope=col>temp</th><th scope=col>atemp</th><th scope=col>hum</th><th scope=col>windspeed</th><th scope=col>casual</th><th scope=col>registered</th><th scope=col>cnt</th></tr>\n",
       "\t<tr><th scope=col>&lt;dbl&gt;</th><th scope=col>&lt;date&gt;</th><th scope=col>&lt;fct&gt;</th><th scope=col>&lt;int&gt;</th><th scope=col>&lt;int&gt;</th><th scope=col>&lt;dbl&gt;</th><th scope=col>&lt;int&gt;</th><th scope=col>&lt;int&gt;</th><th scope=col>&lt;int&gt;</th><th scope=col>&lt;int&gt;</th><th scope=col>&lt;dbl&gt;</th><th scope=col>&lt;dbl&gt;</th><th scope=col>&lt;dbl&gt;</th><th scope=col>&lt;dbl&gt;</th><th scope=col>&lt;int&gt;</th><th scope=col>&lt;int&gt;</th><th scope=col>&lt;int&gt;</th></tr>\n",
       "</thead>\n",
       "<tbody>\n",
       "\t<tr><td>1</td><td>2011-01-01</td><td>1</td><td>0</td><td>1</td><td>0</td><td>0</td><td>6</td><td>0</td><td>1</td><td>0.24</td><td>0.2879</td><td>0.81</td><td>0.0000</td><td>3</td><td>13</td><td>16</td></tr>\n",
       "\t<tr><td>2</td><td>2011-01-01</td><td>1</td><td>0</td><td>1</td><td>1</td><td>0</td><td>6</td><td>0</td><td>1</td><td>0.22</td><td>0.2727</td><td>0.80</td><td>0.0000</td><td>8</td><td>32</td><td>40</td></tr>\n",
       "\t<tr><td>3</td><td>2011-01-01</td><td>1</td><td>0</td><td>1</td><td>2</td><td>0</td><td>6</td><td>0</td><td>1</td><td>0.22</td><td>0.2727</td><td>0.80</td><td>0.0000</td><td>5</td><td>27</td><td>32</td></tr>\n",
       "\t<tr><td>4</td><td>2011-01-01</td><td>1</td><td>0</td><td>1</td><td>3</td><td>0</td><td>6</td><td>0</td><td>1</td><td>0.24</td><td>0.2879</td><td>0.75</td><td>0.0000</td><td>3</td><td>10</td><td>13</td></tr>\n",
       "\t<tr><td>5</td><td>2011-01-01</td><td>1</td><td>0</td><td>1</td><td>4</td><td>0</td><td>6</td><td>0</td><td>1</td><td>0.24</td><td>0.2879</td><td>0.75</td><td>0.0000</td><td>0</td><td> 1</td><td> 1</td></tr>\n",
       "\t<tr><td>6</td><td>2011-01-01</td><td>1</td><td>0</td><td>1</td><td>5</td><td>0</td><td>6</td><td>0</td><td>2</td><td>0.24</td><td>0.2576</td><td>0.75</td><td>0.0896</td><td>0</td><td> 1</td><td> 1</td></tr>\n",
       "</tbody>\n",
       "</table>\n"
      ],
      "text/latex": [
       "A tibble: 6 × 17\n",
       "\\begin{tabular}{lllllllllllllllll}\n",
       " instant & dteday & season & yr & mnth & hr & holiday & weekday & workingday & weathersit & temp & atemp & hum & windspeed & casual & registered & cnt\\\\\n",
       " <dbl> & <date> & <fct> & <int> & <int> & <dbl> & <int> & <int> & <int> & <int> & <dbl> & <dbl> & <dbl> & <dbl> & <int> & <int> & <int>\\\\\n",
       "\\hline\n",
       "\t 1 & 2011-01-01 & 1 & 0 & 1 & 0 & 0 & 6 & 0 & 1 & 0.24 & 0.2879 & 0.81 & 0.0000 & 3 & 13 & 16\\\\\n",
       "\t 2 & 2011-01-01 & 1 & 0 & 1 & 1 & 0 & 6 & 0 & 1 & 0.22 & 0.2727 & 0.80 & 0.0000 & 8 & 32 & 40\\\\\n",
       "\t 3 & 2011-01-01 & 1 & 0 & 1 & 2 & 0 & 6 & 0 & 1 & 0.22 & 0.2727 & 0.80 & 0.0000 & 5 & 27 & 32\\\\\n",
       "\t 4 & 2011-01-01 & 1 & 0 & 1 & 3 & 0 & 6 & 0 & 1 & 0.24 & 0.2879 & 0.75 & 0.0000 & 3 & 10 & 13\\\\\n",
       "\t 5 & 2011-01-01 & 1 & 0 & 1 & 4 & 0 & 6 & 0 & 1 & 0.24 & 0.2879 & 0.75 & 0.0000 & 0 &  1 &  1\\\\\n",
       "\t 6 & 2011-01-01 & 1 & 0 & 1 & 5 & 0 & 6 & 0 & 2 & 0.24 & 0.2576 & 0.75 & 0.0896 & 0 &  1 &  1\\\\\n",
       "\\end{tabular}\n"
      ],
      "text/markdown": [
       "\n",
       "A tibble: 6 × 17\n",
       "\n",
       "| instant &lt;dbl&gt; | dteday &lt;date&gt; | season &lt;fct&gt; | yr &lt;int&gt; | mnth &lt;int&gt; | hr &lt;dbl&gt; | holiday &lt;int&gt; | weekday &lt;int&gt; | workingday &lt;int&gt; | weathersit &lt;int&gt; | temp &lt;dbl&gt; | atemp &lt;dbl&gt; | hum &lt;dbl&gt; | windspeed &lt;dbl&gt; | casual &lt;int&gt; | registered &lt;int&gt; | cnt &lt;int&gt; |\n",
       "|---|---|---|---|---|---|---|---|---|---|---|---|---|---|---|---|---|\n",
       "| 1 | 2011-01-01 | 1 | 0 | 1 | 0 | 0 | 6 | 0 | 1 | 0.24 | 0.2879 | 0.81 | 0.0000 | 3 | 13 | 16 |\n",
       "| 2 | 2011-01-01 | 1 | 0 | 1 | 1 | 0 | 6 | 0 | 1 | 0.22 | 0.2727 | 0.80 | 0.0000 | 8 | 32 | 40 |\n",
       "| 3 | 2011-01-01 | 1 | 0 | 1 | 2 | 0 | 6 | 0 | 1 | 0.22 | 0.2727 | 0.80 | 0.0000 | 5 | 27 | 32 |\n",
       "| 4 | 2011-01-01 | 1 | 0 | 1 | 3 | 0 | 6 | 0 | 1 | 0.24 | 0.2879 | 0.75 | 0.0000 | 3 | 10 | 13 |\n",
       "| 5 | 2011-01-01 | 1 | 0 | 1 | 4 | 0 | 6 | 0 | 1 | 0.24 | 0.2879 | 0.75 | 0.0000 | 0 |  1 |  1 |\n",
       "| 6 | 2011-01-01 | 1 | 0 | 1 | 5 | 0 | 6 | 0 | 2 | 0.24 | 0.2576 | 0.75 | 0.0896 | 0 |  1 |  1 |\n",
       "\n"
      ],
      "text/plain": [
       "  instant dteday     season yr mnth hr holiday weekday workingday weathersit\n",
       "1 1       2011-01-01 1      0  1    0  0       6       0          1         \n",
       "2 2       2011-01-01 1      0  1    1  0       6       0          1         \n",
       "3 3       2011-01-01 1      0  1    2  0       6       0          1         \n",
       "4 4       2011-01-01 1      0  1    3  0       6       0          1         \n",
       "5 5       2011-01-01 1      0  1    4  0       6       0          1         \n",
       "6 6       2011-01-01 1      0  1    5  0       6       0          2         \n",
       "  temp atemp  hum  windspeed casual registered cnt\n",
       "1 0.24 0.2879 0.81 0.0000    3      13         16 \n",
       "2 0.22 0.2727 0.80 0.0000    8      32         40 \n",
       "3 0.22 0.2727 0.80 0.0000    5      27         32 \n",
       "4 0.24 0.2879 0.75 0.0000    3      10         13 \n",
       "5 0.24 0.2879 0.75 0.0000    0       1          1 \n",
       "6 0.24 0.2576 0.75 0.0896    0       1          1 "
      ]
     },
     "metadata": {},
     "output_type": "display_data"
    }
   ],
   "source": [
    "library(readr)\n",
    "bike_df<-read_csv(\"hour.csv\",\n",
    "                 col_types=cols(\n",
    "                 instant=col_double(),\n",
    "                 dteday=col_date(format=\"\"),\n",
    "                 season=col_factor(),\n",
    "                 yr=col_integer(),\n",
    "                 mnth=col_integer(),\n",
    "                 hr=col_double(),\n",
    "                 holiday=col_integer(),\n",
    "                 weekday=col_integer(),\n",
    "                 workingday=col_integer(),\n",
    "                 weathersit=col_integer(),\n",
    "                 temp=col_double(),\n",
    "                 atemp=col_double(),\n",
    "                 hum=col_double(),\n",
    "                 windspeed=col_double(),\n",
    "                 casual=col_integer(),\n",
    "                 registered=col_integer(),\n",
    "                 cnt=col_integer()\n",
    "                 ))\n",
    "bike_df%>%\n",
    "head()\n"
   ]
  },
  {
   "cell_type": "code",
   "execution_count": null,
   "metadata": {},
   "outputs": [],
   "source": [
    "#glimpse function is used to see all the columns in the dataframe with few values for each column."
   ]
  },
  {
   "cell_type": "code",
   "execution_count": 4,
   "metadata": {},
   "outputs": [
    {
     "name": "stdout",
     "output_type": "stream",
     "text": [
      "Rows: 17,379\n",
      "Columns: 17\n",
      "$ instant    \u001b[3m\u001b[90m<dbl>\u001b[39m\u001b[23m 1, 2, 3, 4, 5, 6, 7, 8, 9, 10, 11, 12, 13, 14, 15, 16, 1...\n",
      "$ dteday     \u001b[3m\u001b[90m<date>\u001b[39m\u001b[23m 2011-01-01, 2011-01-01, 2011-01-01, 2011-01-01, 2011-01...\n",
      "$ season     \u001b[3m\u001b[90m<fct>\u001b[39m\u001b[23m 1, 1, 1, 1, 1, 1, 1, 1, 1, 1, 1, 1, 1, 1, 1, 1, 1, 1, 1,...\n",
      "$ yr         \u001b[3m\u001b[90m<int>\u001b[39m\u001b[23m 0, 0, 0, 0, 0, 0, 0, 0, 0, 0, 0, 0, 0, 0, 0, 0, 0, 0, 0,...\n",
      "$ mnth       \u001b[3m\u001b[90m<int>\u001b[39m\u001b[23m 1, 1, 1, 1, 1, 1, 1, 1, 1, 1, 1, 1, 1, 1, 1, 1, 1, 1, 1,...\n",
      "$ hr         \u001b[3m\u001b[90m<dbl>\u001b[39m\u001b[23m 0, 1, 2, 3, 4, 5, 6, 7, 8, 9, 10, 11, 12, 13, 14, 15, 16...\n",
      "$ holiday    \u001b[3m\u001b[90m<int>\u001b[39m\u001b[23m 0, 0, 0, 0, 0, 0, 0, 0, 0, 0, 0, 0, 0, 0, 0, 0, 0, 0, 0,...\n",
      "$ weekday    \u001b[3m\u001b[90m<int>\u001b[39m\u001b[23m 6, 6, 6, 6, 6, 6, 6, 6, 6, 6, 6, 6, 6, 6, 6, 6, 6, 6, 6,...\n",
      "$ workingday \u001b[3m\u001b[90m<int>\u001b[39m\u001b[23m 0, 0, 0, 0, 0, 0, 0, 0, 0, 0, 0, 0, 0, 0, 0, 0, 0, 0, 0,...\n",
      "$ weathersit \u001b[3m\u001b[90m<int>\u001b[39m\u001b[23m 1, 1, 1, 1, 1, 2, 1, 1, 1, 1, 1, 1, 1, 2, 2, 2, 2, 2, 3,...\n",
      "$ temp       \u001b[3m\u001b[90m<dbl>\u001b[39m\u001b[23m 0.24, 0.22, 0.22, 0.24, 0.24, 0.24, 0.22, 0.20, 0.24, 0....\n",
      "$ atemp      \u001b[3m\u001b[90m<dbl>\u001b[39m\u001b[23m 0.2879, 0.2727, 0.2727, 0.2879, 0.2879, 0.2576, 0.2727, ...\n",
      "$ hum        \u001b[3m\u001b[90m<dbl>\u001b[39m\u001b[23m 0.81, 0.80, 0.80, 0.75, 0.75, 0.75, 0.80, 0.86, 0.75, 0....\n",
      "$ windspeed  \u001b[3m\u001b[90m<dbl>\u001b[39m\u001b[23m 0.0000, 0.0000, 0.0000, 0.0000, 0.0000, 0.0896, 0.0000, ...\n",
      "$ casual     \u001b[3m\u001b[90m<int>\u001b[39m\u001b[23m 3, 8, 5, 3, 0, 0, 2, 1, 1, 8, 12, 26, 29, 47, 35, 40, 41...\n",
      "$ registered \u001b[3m\u001b[90m<int>\u001b[39m\u001b[23m 13, 32, 27, 10, 1, 1, 0, 2, 7, 6, 24, 30, 55, 47, 71, 70...\n",
      "$ cnt        \u001b[3m\u001b[90m<int>\u001b[39m\u001b[23m 16, 40, 32, 13, 1, 1, 2, 3, 8, 14, 36, 56, 84, 94, 106, ...\n"
     ]
    }
   ],
   "source": [
    "glimpse(bike_df)"
   ]
  },
  {
   "cell_type": "code",
   "execution_count": null,
   "metadata": {},
   "outputs": [],
   "source": [
    "#skim function is used to show broad overview about the dataframe including minimum, maximum, median, missing value."
   ]
  },
  {
   "cell_type": "code",
   "execution_count": 5,
   "metadata": {},
   "outputs": [
    {
     "name": "stdout",
     "output_type": "stream",
     "text": [
      "-- Data Summary ------------------------\n",
      "                           Values \n",
      "Name                       bike_df\n",
      "Number of rows             17379  \n",
      "Number of columns          17     \n",
      "_______________________           \n",
      "Column type frequency:            \n",
      "  Date                     1      \n",
      "  factor                   1      \n",
      "  numeric                  15     \n",
      "________________________          \n",
      "Group variables            None   \n",
      "\n",
      "-- Variable type: Date ---------------------------------------------------------\n",
      "# A tibble: 1 x 7\n",
      "  skim_variable n_missing complete_rate min        max        median    \n",
      "* <chr>             <int>         <dbl> <date>     <date>     <date>    \n",
      "1 dteday                0             1 2011-01-01 2012-12-31 2012-01-02\n",
      "  n_unique\n",
      "*    <int>\n",
      "1      731\n",
      "\n",
      "-- Variable type: factor -------------------------------------------------------\n",
      "# A tibble: 1 x 6\n",
      "  skim_variable n_missing complete_rate ordered n_unique\n",
      "* <chr>             <int>         <dbl> <lgl>      <int>\n",
      "1 season                0             1 FALSE          4\n",
      "  top_counts                        \n",
      "* <chr>                             \n",
      "1 3: 4496, 2: 4409, 1: 4242, 4: 4232\n",
      "\n",
      "-- Variable type: numeric ------------------------------------------------------\n",
      "# A tibble: 15 x 11\n",
      "   skim_variable n_missing complete_rate      mean       sd    p0      p25\n",
      " * <chr>             <int>         <dbl>     <dbl>    <dbl> <dbl>    <dbl>\n",
      " 1 instant               0             1 8690      5017.     1    4346.   \n",
      " 2 yr                    0             1    0.503     0.500  0       0    \n",
      " 3 mnth                  0             1    6.54      3.44   1       4    \n",
      " 4 hr                    0             1   11.5       6.91   0       6    \n",
      " 5 holiday               0             1    0.0288    0.167  0       0    \n",
      " 6 weekday               0             1    3.00      2.01   0       1    \n",
      " 7 workingday            0             1    0.683     0.465  0       0    \n",
      " 8 weathersit            0             1    1.43      0.639  1       1    \n",
      " 9 temp                  0             1    0.497     0.193  0.02    0.34 \n",
      "10 atemp                 0             1    0.476     0.172  0       0.333\n",
      "11 hum                   0             1    0.627     0.193  0       0.48 \n",
      "12 windspeed             0             1    0.190     0.122  0       0.104\n",
      "13 casual                0             1   35.7      49.3    0       4    \n",
      "14 registered            0             1  154.      151.     0      34    \n",
      "15 cnt                   0             1  189.      181.     1      40    \n",
      "        p50       p75      p100 hist \n",
      " *    <dbl>     <dbl>     <dbl> <chr>\n",
      " 1 8690     13034.    17379     <U+2587><U+2587><U+2587><U+2587><U+2587>\n",
      " 2    1         1         1     <U+2587><U+2581><U+2581><U+2581><U+2587>\n",
      " 3    7        10        12     <U+2587><U+2586><U+2586><U+2585><U+2587>\n",
      " 4   12        18        23     <U+2587><U+2587><U+2586><U+2587><U+2587>\n",
      " 5    0         0         1     <U+2587><U+2581><U+2581><U+2581><U+2581>\n",
      " 6    3         5         6     <U+2587><U+2583><U+2583><U+2583><U+2587>\n",
      " 7    1         1         1     <U+2583><U+2581><U+2581><U+2581><U+2587>\n",
      " 8    1         2         4     <U+2587><U+2583><U+2581><U+2581><U+2581>\n",
      " 9    0.5       0.66      1     <U+2582><U+2587><U+2587><U+2587><U+2581>\n",
      "10    0.485     0.621     1     <U+2581><U+2586><U+2587><U+2586><U+2581>\n",
      "11    0.63      0.78      1     <U+2581><U+2583><U+2587><U+2587><U+2586>\n",
      "12    0.194     0.254     0.851 <U+2587><U+2586><U+2582><U+2581><U+2581>\n",
      "13   17        48       367     <U+2587><U+2581><U+2581><U+2581><U+2581>\n",
      "14  115       220       886     <U+2587><U+2583><U+2581><U+2581><U+2581>\n",
      "15  142       281       977     <U+2587><U+2583><U+2581><U+2581><U+2581>\n"
     ]
    }
   ],
   "source": [
    "library(skimr)\n",
    "skim(bike_df)"
   ]
  },
  {
   "cell_type": "code",
   "execution_count": null,
   "metadata": {},
   "outputs": [],
   "source": [
    "# Visdat library is used to find the missing values in the dataframe"
   ]
  },
  {
   "cell_type": "code",
   "execution_count": 6,
   "metadata": {},
   "outputs": [
    {
     "data": {
      "image/png": "[encoded data removed]",
      "text/plain": [
       "plot without title"
      ]
     },
     "metadata": {
      "image/png": {
       "height": 420,
       "width": 420
      }
     },
     "output_type": "display_data"
    }
   ],
   "source": [
    "library(visdat)\n",
    "bike_df %>%\n",
    "  vis_miss()"
   ]
  },
  {
   "cell_type": "code",
   "execution_count": null,
   "metadata": {},
   "outputs": [],
   "source": [
    "# There is no missing values in the bike_df dataframe"
   ]
  },
  {
   "cell_type": "markdown",
   "metadata": {},
   "source": [
    "### Task (b): working on rows (10 marks)\n",
    "\n",
    "\n",
    "Working on `bike_df`, show that you can operate on rows: arranging them, getting the top _n_ according to some variable of your choice, filtering them (eventually using your own functions).\n",
    "\n",
    "_hint_ useful functions: `arrange()`, `top_n()`, `filter()`  \n",
    "_hint_ to define a function: `myfunction <- function(myargument,anotherargument) { bodyofthefunction }`"
   ]
  },
  {
   "cell_type": "code",
   "execution_count": null,
   "metadata": {},
   "outputs": [],
   "source": [
    "#Created a function to see the observation which has maxmimum rental count in a particular weathersit. \n",
    "#filter function is used to select rows based on the condition - our case we need to give weather situation(1 to 4)\n",
    "#arrange function is used to sort the selected rows.\n",
    "#top_n function is used to select top n rows from the dataframe."
   ]
  },
  {
   "cell_type": "code",
   "execution_count": 7,
   "metadata": {},
   "outputs": [
    {
     "name": "stderr",
     "output_type": "stream",
     "text": [
      "Selecting by cnt\n",
      "\n"
     ]
    },
    {
     "data": {
      "text/html": [
       "<table>\n",
       "<caption>A tibble: 1 × 17</caption>\n",
       "<thead>\n",
       "\t<tr><th scope=col>instant</th><th scope=col>dteday</th><th scope=col>season</th><th scope=col>yr</th><th scope=col>mnth</th><th scope=col>hr</th><th scope=col>holiday</th><th scope=col>weekday</th><th scope=col>workingday</th><th scope=col>weathersit</th><th scope=col>temp</th><th scope=col>atemp</th><th scope=col>hum</th><th scope=col>windspeed</th><th scope=col>casual</th><th scope=col>registered</th><th scope=col>cnt</th></tr>\n",
       "\t<tr><th scope=col>&lt;dbl&gt;</th><th scope=col>&lt;date&gt;</th><th scope=col>&lt;fct&gt;</th><th scope=col>&lt;int&gt;</th><th scope=col>&lt;int&gt;</th><th scope=col>&lt;dbl&gt;</th><th scope=col>&lt;int&gt;</th><th scope=col>&lt;int&gt;</th><th scope=col>&lt;int&gt;</th><th scope=col>&lt;int&gt;</th><th scope=col>&lt;dbl&gt;</th><th scope=col>&lt;dbl&gt;</th><th scope=col>&lt;dbl&gt;</th><th scope=col>&lt;dbl&gt;</th><th scope=col>&lt;int&gt;</th><th scope=col>&lt;int&gt;</th><th scope=col>&lt;int&gt;</th></tr>\n",
       "</thead>\n",
       "<tbody>\n",
       "\t<tr><td>10623</td><td>2012-03-23</td><td>2</td><td>1</td><td>3</td><td>17</td><td>0</td><td>5</td><td>1</td><td>2</td><td>0.72</td><td>0.6515</td><td>0.42</td><td>0.1642</td><td>264</td><td>693</td><td>957</td></tr>\n",
       "</tbody>\n",
       "</table>\n"
      ],
      "text/latex": [
       "A tibble: 1 × 17\n",
       "\\begin{tabular}{lllllllllllllllll}\n",
       " instant & dteday & season & yr & mnth & hr & holiday & weekday & workingday & weathersit & temp & atemp & hum & windspeed & casual & registered & cnt\\\\\n",
       " <dbl> & <date> & <fct> & <int> & <int> & <dbl> & <int> & <int> & <int> & <int> & <dbl> & <dbl> & <dbl> & <dbl> & <int> & <int> & <int>\\\\\n",
       "\\hline\n",
       "\t 10623 & 2012-03-23 & 2 & 1 & 3 & 17 & 0 & 5 & 1 & 2 & 0.72 & 0.6515 & 0.42 & 0.1642 & 264 & 693 & 957\\\\\n",
       "\\end{tabular}\n"
      ],
      "text/markdown": [
       "\n",
       "A tibble: 1 × 17\n",
       "\n",
       "| instant &lt;dbl&gt; | dteday &lt;date&gt; | season &lt;fct&gt; | yr &lt;int&gt; | mnth &lt;int&gt; | hr &lt;dbl&gt; | holiday &lt;int&gt; | weekday &lt;int&gt; | workingday &lt;int&gt; | weathersit &lt;int&gt; | temp &lt;dbl&gt; | atemp &lt;dbl&gt; | hum &lt;dbl&gt; | windspeed &lt;dbl&gt; | casual &lt;int&gt; | registered &lt;int&gt; | cnt &lt;int&gt; |\n",
       "|---|---|---|---|---|---|---|---|---|---|---|---|---|---|---|---|---|\n",
       "| 10623 | 2012-03-23 | 2 | 1 | 3 | 17 | 0 | 5 | 1 | 2 | 0.72 | 0.6515 | 0.42 | 0.1642 | 264 | 693 | 957 |\n",
       "\n"
      ],
      "text/plain": [
       "  instant dteday     season yr mnth hr holiday weekday workingday weathersit\n",
       "1 10623   2012-03-23 2      1  3    17 0       5       1          2         \n",
       "  temp atemp  hum  windspeed casual registered cnt\n",
       "1 0.72 0.6515 0.42 0.1642    264    693        957"
      ]
     },
     "metadata": {},
     "output_type": "display_data"
    }
   ],
   "source": [
    "max_function<-function(weather_situation){\n",
    "    bike_df %>%\n",
    "    filter(weathersit==weather_situation)%>%\n",
    "    arrange(desc(cnt))%>%\n",
    "    top_n(1)\n",
    "}\n",
    "bike_df_max<-max_function(2)\n",
    "head(bike_df_max)"
   ]
  },
  {
   "cell_type": "markdown",
   "metadata": {},
   "source": [
    "### Task (c): working on columns (10 marks)\n",
    "\n",
    "Working on `bike_df`, show that you can operate on columns: selecting some of them, dropping other, renaming them, reordering them, ...\n",
    "\n",
    "\n",
    "_hint_ useful functions: `select()`, `rename()`, ..."
   ]
  },
  {
   "cell_type": "code",
   "execution_count": null,
   "metadata": {},
   "outputs": [],
   "source": [
    "#Select function is used to select specific columns from the dataframe for processing.\n",
    "#Top 6 records for bike rented on working day is selected below along with the season and date of the specified workingday.\n",
    "#We can change into holiday or weekend by giving the value as 0 in filter condition"
   ]
  },
  {
   "cell_type": "code",
   "execution_count": 8,
   "metadata": {},
   "outputs": [
    {
     "data": {
      "text/html": [
       "<table>\n",
       "<caption>A tibble: 6 × 4</caption>\n",
       "<thead>\n",
       "\t<tr><th scope=col>dteday</th><th scope=col>season</th><th scope=col>workingday</th><th scope=col>cnt</th></tr>\n",
       "\t<tr><th scope=col>&lt;date&gt;</th><th scope=col>&lt;fct&gt;</th><th scope=col>&lt;int&gt;</th><th scope=col>&lt;int&gt;</th></tr>\n",
       "</thead>\n",
       "<tbody>\n",
       "\t<tr><td>2012-09-12</td><td>3</td><td>1</td><td>977</td></tr>\n",
       "\t<tr><td>2012-09-20</td><td>3</td><td>1</td><td>976</td></tr>\n",
       "\t<tr><td>2012-09-11</td><td>3</td><td>1</td><td>970</td></tr>\n",
       "\t<tr><td>2012-09-10</td><td>3</td><td>1</td><td>968</td></tr>\n",
       "\t<tr><td>2012-09-25</td><td>4</td><td>1</td><td>967</td></tr>\n",
       "\t<tr><td>2012-10-24</td><td>4</td><td>1</td><td>963</td></tr>\n",
       "</tbody>\n",
       "</table>\n"
      ],
      "text/latex": [
       "A tibble: 6 × 4\n",
       "\\begin{tabular}{llll}\n",
       " dteday & season & workingday & cnt\\\\\n",
       " <date> & <fct> & <int> & <int>\\\\\n",
       "\\hline\n",
       "\t 2012-09-12 & 3 & 1 & 977\\\\\n",
       "\t 2012-09-20 & 3 & 1 & 976\\\\\n",
       "\t 2012-09-11 & 3 & 1 & 970\\\\\n",
       "\t 2012-09-10 & 3 & 1 & 968\\\\\n",
       "\t 2012-09-25 & 4 & 1 & 967\\\\\n",
       "\t 2012-10-24 & 4 & 1 & 963\\\\\n",
       "\\end{tabular}\n"
      ],
      "text/markdown": [
       "\n",
       "A tibble: 6 × 4\n",
       "\n",
       "| dteday &lt;date&gt; | season &lt;fct&gt; | workingday &lt;int&gt; | cnt &lt;int&gt; |\n",
       "|---|---|---|---|\n",
       "| 2012-09-12 | 3 | 1 | 977 |\n",
       "| 2012-09-20 | 3 | 1 | 976 |\n",
       "| 2012-09-11 | 3 | 1 | 970 |\n",
       "| 2012-09-10 | 3 | 1 | 968 |\n",
       "| 2012-09-25 | 4 | 1 | 967 |\n",
       "| 2012-10-24 | 4 | 1 | 963 |\n",
       "\n"
      ],
      "text/plain": [
       "  dteday     season workingday cnt\n",
       "1 2012-09-12 3      1          977\n",
       "2 2012-09-20 3      1          976\n",
       "3 2012-09-11 3      1          970\n",
       "4 2012-09-10 3      1          968\n",
       "5 2012-09-25 4      1          967\n",
       "6 2012-10-24 4      1          963"
      ]
     },
     "metadata": {},
     "output_type": "display_data"
    }
   ],
   "source": [
    "bike_df%>%\n",
    "    select(dteday,season,workingday,cnt)%>%\n",
    "    filter(workingday==1)%>%\n",
    "    arrange(desc(cnt))%>%\n",
    "    head()"
   ]
  },
  {
   "cell_type": "code",
   "execution_count": null,
   "metadata": {},
   "outputs": [],
   "source": [
    "#Rename function is used to rename the column for better understanding about the column"
   ]
  },
  {
   "cell_type": "code",
   "execution_count": 9,
   "metadata": {},
   "outputs": [
    {
     "data": {
      "text/html": [
       "<table>\n",
       "<caption>A tibble: 6 × 17</caption>\n",
       "<thead>\n",
       "\t<tr><th scope=col>instant</th><th scope=col>date</th><th scope=col>season</th><th scope=col>year</th><th scope=col>month</th><th scope=col>hour</th><th scope=col>holiday</th><th scope=col>weekday</th><th scope=col>workingday</th><th scope=col>weather_situation</th><th scope=col>temperature</th><th scope=col>atemp</th><th scope=col>humidity</th><th scope=col>windspeed</th><th scope=col>casual</th><th scope=col>registered</th><th scope=col>cnt</th></tr>\n",
       "\t<tr><th scope=col>&lt;dbl&gt;</th><th scope=col>&lt;date&gt;</th><th scope=col>&lt;fct&gt;</th><th scope=col>&lt;int&gt;</th><th scope=col>&lt;int&gt;</th><th scope=col>&lt;dbl&gt;</th><th scope=col>&lt;int&gt;</th><th scope=col>&lt;int&gt;</th><th scope=col>&lt;int&gt;</th><th scope=col>&lt;int&gt;</th><th scope=col>&lt;dbl&gt;</th><th scope=col>&lt;dbl&gt;</th><th scope=col>&lt;dbl&gt;</th><th scope=col>&lt;dbl&gt;</th><th scope=col>&lt;int&gt;</th><th scope=col>&lt;int&gt;</th><th scope=col>&lt;int&gt;</th></tr>\n",
       "</thead>\n",
       "<tbody>\n",
       "\t<tr><td>1</td><td>2011-01-01</td><td>1</td><td>0</td><td>1</td><td>0</td><td>0</td><td>6</td><td>0</td><td>1</td><td>0.24</td><td>0.2879</td><td>0.81</td><td>0.0000</td><td>3</td><td>13</td><td>16</td></tr>\n",
       "\t<tr><td>2</td><td>2011-01-01</td><td>1</td><td>0</td><td>1</td><td>1</td><td>0</td><td>6</td><td>0</td><td>1</td><td>0.22</td><td>0.2727</td><td>0.80</td><td>0.0000</td><td>8</td><td>32</td><td>40</td></tr>\n",
       "\t<tr><td>3</td><td>2011-01-01</td><td>1</td><td>0</td><td>1</td><td>2</td><td>0</td><td>6</td><td>0</td><td>1</td><td>0.22</td><td>0.2727</td><td>0.80</td><td>0.0000</td><td>5</td><td>27</td><td>32</td></tr>\n",
       "\t<tr><td>4</td><td>2011-01-01</td><td>1</td><td>0</td><td>1</td><td>3</td><td>0</td><td>6</td><td>0</td><td>1</td><td>0.24</td><td>0.2879</td><td>0.75</td><td>0.0000</td><td>3</td><td>10</td><td>13</td></tr>\n",
       "\t<tr><td>5</td><td>2011-01-01</td><td>1</td><td>0</td><td>1</td><td>4</td><td>0</td><td>6</td><td>0</td><td>1</td><td>0.24</td><td>0.2879</td><td>0.75</td><td>0.0000</td><td>0</td><td> 1</td><td> 1</td></tr>\n",
       "\t<tr><td>6</td><td>2011-01-01</td><td>1</td><td>0</td><td>1</td><td>5</td><td>0</td><td>6</td><td>0</td><td>2</td><td>0.24</td><td>0.2576</td><td>0.75</td><td>0.0896</td><td>0</td><td> 1</td><td> 1</td></tr>\n",
       "</tbody>\n",
       "</table>\n"
      ],
      "text/latex": [
       "A tibble: 6 × 17\n",
       "\\begin{tabular}{lllllllllllllllll}\n",
       " instant & date & season & year & month & hour & holiday & weekday & workingday & weather\\_situation & temperature & atemp & humidity & windspeed & casual & registered & cnt\\\\\n",
       " <dbl> & <date> & <fct> & <int> & <int> & <dbl> & <int> & <int> & <int> & <int> & <dbl> & <dbl> & <dbl> & <dbl> & <int> & <int> & <int>\\\\\n",
       "\\hline\n",
       "\t 1 & 2011-01-01 & 1 & 0 & 1 & 0 & 0 & 6 & 0 & 1 & 0.24 & 0.2879 & 0.81 & 0.0000 & 3 & 13 & 16\\\\\n",
       "\t 2 & 2011-01-01 & 1 & 0 & 1 & 1 & 0 & 6 & 0 & 1 & 0.22 & 0.2727 & 0.80 & 0.0000 & 8 & 32 & 40\\\\\n",
       "\t 3 & 2011-01-01 & 1 & 0 & 1 & 2 & 0 & 6 & 0 & 1 & 0.22 & 0.2727 & 0.80 & 0.0000 & 5 & 27 & 32\\\\\n",
       "\t 4 & 2011-01-01 & 1 & 0 & 1 & 3 & 0 & 6 & 0 & 1 & 0.24 & 0.2879 & 0.75 & 0.0000 & 3 & 10 & 13\\\\\n",
       "\t 5 & 2011-01-01 & 1 & 0 & 1 & 4 & 0 & 6 & 0 & 1 & 0.24 & 0.2879 & 0.75 & 0.0000 & 0 &  1 &  1\\\\\n",
       "\t 6 & 2011-01-01 & 1 & 0 & 1 & 5 & 0 & 6 & 0 & 2 & 0.24 & 0.2576 & 0.75 & 0.0896 & 0 &  1 &  1\\\\\n",
       "\\end{tabular}\n"
      ],
      "text/markdown": [
       "\n",
       "A tibble: 6 × 17\n",
       "\n",
       "| instant &lt;dbl&gt; | date &lt;date&gt; | season &lt;fct&gt; | year &lt;int&gt; | month &lt;int&gt; | hour &lt;dbl&gt; | holiday &lt;int&gt; | weekday &lt;int&gt; | workingday &lt;int&gt; | weather_situation &lt;int&gt; | temperature &lt;dbl&gt; | atemp &lt;dbl&gt; | humidity &lt;dbl&gt; | windspeed &lt;dbl&gt; | casual &lt;int&gt; | registered &lt;int&gt; | cnt &lt;int&gt; |\n",
       "|---|---|---|---|---|---|---|---|---|---|---|---|---|---|---|---|---|\n",
       "| 1 | 2011-01-01 | 1 | 0 | 1 | 0 | 0 | 6 | 0 | 1 | 0.24 | 0.2879 | 0.81 | 0.0000 | 3 | 13 | 16 |\n",
       "| 2 | 2011-01-01 | 1 | 0 | 1 | 1 | 0 | 6 | 0 | 1 | 0.22 | 0.2727 | 0.80 | 0.0000 | 8 | 32 | 40 |\n",
       "| 3 | 2011-01-01 | 1 | 0 | 1 | 2 | 0 | 6 | 0 | 1 | 0.22 | 0.2727 | 0.80 | 0.0000 | 5 | 27 | 32 |\n",
       "| 4 | 2011-01-01 | 1 | 0 | 1 | 3 | 0 | 6 | 0 | 1 | 0.24 | 0.2879 | 0.75 | 0.0000 | 3 | 10 | 13 |\n",
       "| 5 | 2011-01-01 | 1 | 0 | 1 | 4 | 0 | 6 | 0 | 1 | 0.24 | 0.2879 | 0.75 | 0.0000 | 0 |  1 |  1 |\n",
       "| 6 | 2011-01-01 | 1 | 0 | 1 | 5 | 0 | 6 | 0 | 2 | 0.24 | 0.2576 | 0.75 | 0.0896 | 0 |  1 |  1 |\n",
       "\n"
      ],
      "text/plain": [
       "  instant date       season year month hour holiday weekday workingday\n",
       "1 1       2011-01-01 1      0    1     0    0       6       0         \n",
       "2 2       2011-01-01 1      0    1     1    0       6       0         \n",
       "3 3       2011-01-01 1      0    1     2    0       6       0         \n",
       "4 4       2011-01-01 1      0    1     3    0       6       0         \n",
       "5 5       2011-01-01 1      0    1     4    0       6       0         \n",
       "6 6       2011-01-01 1      0    1     5    0       6       0         \n",
       "  weather_situation temperature atemp  humidity windspeed casual registered cnt\n",
       "1 1                 0.24        0.2879 0.81     0.0000    3      13         16 \n",
       "2 1                 0.22        0.2727 0.80     0.0000    8      32         40 \n",
       "3 1                 0.22        0.2727 0.80     0.0000    5      27         32 \n",
       "4 1                 0.24        0.2879 0.75     0.0000    3      10         13 \n",
       "5 1                 0.24        0.2879 0.75     0.0000    0       1          1 \n",
       "6 2                 0.24        0.2576 0.75     0.0896    0       1          1 "
      ]
     },
     "metadata": {},
     "output_type": "display_data"
    }
   ],
   "source": [
    "bike_df2<-tibble(bike_df)%>%\n",
    "rename(year=yr,month=mnth,hour=hr,date=dteday,weather_situation=weathersit,humidity=hum,temperature=temp)\n",
    "head(bike_df2)"
   ]
  },
  {
   "cell_type": "code",
   "execution_count": null,
   "metadata": {},
   "outputs": [],
   "source": [
    "# Reordering columns of the bike_df dataframe"
   ]
  },
  {
   "cell_type": "code",
   "execution_count": 11,
   "metadata": {},
   "outputs": [
    {
     "data": {
      "text/html": [
       "<table>\n",
       "<caption>A tibble: 6 × 10</caption>\n",
       "<thead>\n",
       "\t<tr><th scope=col>dteday</th><th scope=col>hr</th><th scope=col>mnth</th><th scope=col>yr</th><th scope=col>holiday</th><th scope=col>weekday</th><th scope=col>workingday</th><th scope=col>atemp</th><th scope=col>temp</th><th scope=col>weathersit</th></tr>\n",
       "\t<tr><th scope=col>&lt;date&gt;</th><th scope=col>&lt;dbl&gt;</th><th scope=col>&lt;int&gt;</th><th scope=col>&lt;int&gt;</th><th scope=col>&lt;int&gt;</th><th scope=col>&lt;int&gt;</th><th scope=col>&lt;int&gt;</th><th scope=col>&lt;dbl&gt;</th><th scope=col>&lt;dbl&gt;</th><th scope=col>&lt;int&gt;</th></tr>\n",
       "</thead>\n",
       "<tbody>\n",
       "\t<tr><td>2011-01-01</td><td>0</td><td>1</td><td>0</td><td>0</td><td>6</td><td>0</td><td>0.2879</td><td>0.24</td><td>1</td></tr>\n",
       "\t<tr><td>2011-01-01</td><td>1</td><td>1</td><td>0</td><td>0</td><td>6</td><td>0</td><td>0.2727</td><td>0.22</td><td>1</td></tr>\n",
       "\t<tr><td>2011-01-01</td><td>2</td><td>1</td><td>0</td><td>0</td><td>6</td><td>0</td><td>0.2727</td><td>0.22</td><td>1</td></tr>\n",
       "\t<tr><td>2011-01-01</td><td>3</td><td>1</td><td>0</td><td>0</td><td>6</td><td>0</td><td>0.2879</td><td>0.24</td><td>1</td></tr>\n",
       "\t<tr><td>2011-01-01</td><td>4</td><td>1</td><td>0</td><td>0</td><td>6</td><td>0</td><td>0.2879</td><td>0.24</td><td>1</td></tr>\n",
       "\t<tr><td>2011-01-01</td><td>5</td><td>1</td><td>0</td><td>0</td><td>6</td><td>0</td><td>0.2576</td><td>0.24</td><td>2</td></tr>\n",
       "</tbody>\n",
       "</table>\n"
      ],
      "text/latex": [
       "A tibble: 6 × 10\n",
       "\\begin{tabular}{llllllllll}\n",
       " dteday & hr & mnth & yr & holiday & weekday & workingday & atemp & temp & weathersit\\\\\n",
       " <date> & <dbl> & <int> & <int> & <int> & <int> & <int> & <dbl> & <dbl> & <int>\\\\\n",
       "\\hline\n",
       "\t 2011-01-01 & 0 & 1 & 0 & 0 & 6 & 0 & 0.2879 & 0.24 & 1\\\\\n",
       "\t 2011-01-01 & 1 & 1 & 0 & 0 & 6 & 0 & 0.2727 & 0.22 & 1\\\\\n",
       "\t 2011-01-01 & 2 & 1 & 0 & 0 & 6 & 0 & 0.2727 & 0.22 & 1\\\\\n",
       "\t 2011-01-01 & 3 & 1 & 0 & 0 & 6 & 0 & 0.2879 & 0.24 & 1\\\\\n",
       "\t 2011-01-01 & 4 & 1 & 0 & 0 & 6 & 0 & 0.2879 & 0.24 & 1\\\\\n",
       "\t 2011-01-01 & 5 & 1 & 0 & 0 & 6 & 0 & 0.2576 & 0.24 & 2\\\\\n",
       "\\end{tabular}\n"
      ],
      "text/markdown": [
       "\n",
       "A tibble: 6 × 10\n",
       "\n",
       "| dteday &lt;date&gt; | hr &lt;dbl&gt; | mnth &lt;int&gt; | yr &lt;int&gt; | holiday &lt;int&gt; | weekday &lt;int&gt; | workingday &lt;int&gt; | atemp &lt;dbl&gt; | temp &lt;dbl&gt; | weathersit &lt;int&gt; |\n",
       "|---|---|---|---|---|---|---|---|---|---|\n",
       "| 2011-01-01 | 0 | 1 | 0 | 0 | 6 | 0 | 0.2879 | 0.24 | 1 |\n",
       "| 2011-01-01 | 1 | 1 | 0 | 0 | 6 | 0 | 0.2727 | 0.22 | 1 |\n",
       "| 2011-01-01 | 2 | 1 | 0 | 0 | 6 | 0 | 0.2727 | 0.22 | 1 |\n",
       "| 2011-01-01 | 3 | 1 | 0 | 0 | 6 | 0 | 0.2879 | 0.24 | 1 |\n",
       "| 2011-01-01 | 4 | 1 | 0 | 0 | 6 | 0 | 0.2879 | 0.24 | 1 |\n",
       "| 2011-01-01 | 5 | 1 | 0 | 0 | 6 | 0 | 0.2576 | 0.24 | 2 |\n",
       "\n"
      ],
      "text/plain": [
       "  dteday     hr mnth yr holiday weekday workingday atemp  temp weathersit\n",
       "1 2011-01-01 0  1    0  0       6       0          0.2879 0.24 1         \n",
       "2 2011-01-01 1  1    0  0       6       0          0.2727 0.22 1         \n",
       "3 2011-01-01 2  1    0  0       6       0          0.2727 0.22 1         \n",
       "4 2011-01-01 3  1    0  0       6       0          0.2879 0.24 1         \n",
       "5 2011-01-01 4  1    0  0       6       0          0.2879 0.24 1         \n",
       "6 2011-01-01 5  1    0  0       6       0          0.2576 0.24 2         "
      ]
     },
     "metadata": {},
     "output_type": "display_data"
    }
   ],
   "source": [
    "bike_df[,c(2,6,5,4,7,8,9,12,11,10)] %>%\n",
    "head()"
   ]
  },
  {
   "cell_type": "markdown",
   "metadata": {},
   "source": [
    "### Task (d): groups and not (10 marks)\n",
    "\n",
    "Working on `bike_df`, show that you can produce new variables (columns) and modify existing one; show also that you can operate on the dataframe as a whole and on groups. See *Readme.txt* to get an understanding of the variable scaling applied.\n",
    "\n",
    "_hint_ useful functions: `mutate()`, `group_by()`, `summarise()`, `tally()`, ..."
   ]
  },
  {
   "cell_type": "code",
   "execution_count": null,
   "metadata": {},
   "outputs": [],
   "source": [
    "# group_by function and summarise is used find the average bike rented in each season.\n",
    "# the values are rounded because the decimals in averrage count makes it meaningless."
   ]
  },
  {
   "cell_type": "code",
   "execution_count": 12,
   "metadata": {},
   "outputs": [
    {
     "name": "stderr",
     "output_type": "stream",
     "text": [
      "`summarise()` ungrouping output (override with `.groups` argument)\n",
      "\n"
     ]
    },
    {
     "data": {
      "text/html": [
       "<table>\n",
       "<caption>A tibble: 4 × 2</caption>\n",
       "<thead>\n",
       "\t<tr><th scope=col>season</th><th scope=col>avg_count</th></tr>\n",
       "\t<tr><th scope=col>&lt;fct&gt;</th><th scope=col>&lt;dbl&gt;</th></tr>\n",
       "</thead>\n",
       "<tbody>\n",
       "\t<tr><td>1</td><td>111</td></tr>\n",
       "\t<tr><td>2</td><td>208</td></tr>\n",
       "\t<tr><td>3</td><td>236</td></tr>\n",
       "\t<tr><td>4</td><td>199</td></tr>\n",
       "</tbody>\n",
       "</table>\n"
      ],
      "text/latex": [
       "A tibble: 4 × 2\n",
       "\\begin{tabular}{ll}\n",
       " season & avg\\_count\\\\\n",
       " <fct> & <dbl>\\\\\n",
       "\\hline\n",
       "\t 1 & 111\\\\\n",
       "\t 2 & 208\\\\\n",
       "\t 3 & 236\\\\\n",
       "\t 4 & 199\\\\\n",
       "\\end{tabular}\n"
      ],
      "text/markdown": [
       "\n",
       "A tibble: 4 × 2\n",
       "\n",
       "| season &lt;fct&gt; | avg_count &lt;dbl&gt; |\n",
       "|---|---|\n",
       "| 1 | 111 |\n",
       "| 2 | 208 |\n",
       "| 3 | 236 |\n",
       "| 4 | 199 |\n",
       "\n"
      ],
      "text/plain": [
       "  season avg_count\n",
       "1 1      111      \n",
       "2 2      208      \n",
       "3 3      236      \n",
       "4 4      199      "
      ]
     },
     "metadata": {},
     "output_type": "display_data"
    }
   ],
   "source": [
    "bike_df_season<-bike_df%>%\n",
    "    group_by(season)%>%\n",
    "    summarise(avg_count=round(mean(cnt)))\n",
    "bike_df_season"
   ]
  },
  {
   "cell_type": "code",
   "execution_count": null,
   "metadata": {},
   "outputs": [],
   "source": [
    "#mutate function is used to create two new variables into the dataframe\n",
    "#percentage for casual and registered bike rented is created for each record."
   ]
  },
  {
   "cell_type": "code",
   "execution_count": 15,
   "metadata": {},
   "outputs": [
    {
     "data": {
      "text/html": [
       "<table>\n",
       "<caption>A tibble: 6 × 19</caption>\n",
       "<thead>\n",
       "\t<tr><th scope=col>instant</th><th scope=col>dteday</th><th scope=col>season</th><th scope=col>yr</th><th scope=col>mnth</th><th scope=col>hr</th><th scope=col>holiday</th><th scope=col>weekday</th><th scope=col>workingday</th><th scope=col>weathersit</th><th scope=col>temp</th><th scope=col>atemp</th><th scope=col>hum</th><th scope=col>windspeed</th><th scope=col>casual</th><th scope=col>registered</th><th scope=col>cnt</th><th scope=col>casual_percentage</th><th scope=col>registered_percentage</th></tr>\n",
       "\t<tr><th scope=col>&lt;dbl&gt;</th><th scope=col>&lt;date&gt;</th><th scope=col>&lt;fct&gt;</th><th scope=col>&lt;int&gt;</th><th scope=col>&lt;int&gt;</th><th scope=col>&lt;dbl&gt;</th><th scope=col>&lt;int&gt;</th><th scope=col>&lt;int&gt;</th><th scope=col>&lt;int&gt;</th><th scope=col>&lt;int&gt;</th><th scope=col>&lt;dbl&gt;</th><th scope=col>&lt;dbl&gt;</th><th scope=col>&lt;dbl&gt;</th><th scope=col>&lt;dbl&gt;</th><th scope=col>&lt;int&gt;</th><th scope=col>&lt;int&gt;</th><th scope=col>&lt;int&gt;</th><th scope=col>&lt;dbl&gt;</th><th scope=col>&lt;dbl&gt;</th></tr>\n",
       "</thead>\n",
       "<tbody>\n",
       "\t<tr><td>1</td><td>2011-01-01</td><td>1</td><td>0</td><td>1</td><td>0</td><td>0</td><td>6</td><td>0</td><td>1</td><td>0.24</td><td>0.2879</td><td>0.81</td><td>0.0000</td><td>3</td><td>13</td><td>16</td><td>18.75</td><td> 81.25</td></tr>\n",
       "\t<tr><td>2</td><td>2011-01-01</td><td>1</td><td>0</td><td>1</td><td>1</td><td>0</td><td>6</td><td>0</td><td>1</td><td>0.22</td><td>0.2727</td><td>0.80</td><td>0.0000</td><td>8</td><td>32</td><td>40</td><td>20.00</td><td> 80.00</td></tr>\n",
       "\t<tr><td>3</td><td>2011-01-01</td><td>1</td><td>0</td><td>1</td><td>2</td><td>0</td><td>6</td><td>0</td><td>1</td><td>0.22</td><td>0.2727</td><td>0.80</td><td>0.0000</td><td>5</td><td>27</td><td>32</td><td>15.62</td><td> 84.38</td></tr>\n",
       "\t<tr><td>4</td><td>2011-01-01</td><td>1</td><td>0</td><td>1</td><td>3</td><td>0</td><td>6</td><td>0</td><td>1</td><td>0.24</td><td>0.2879</td><td>0.75</td><td>0.0000</td><td>3</td><td>10</td><td>13</td><td>23.08</td><td> 76.92</td></tr>\n",
       "\t<tr><td>5</td><td>2011-01-01</td><td>1</td><td>0</td><td>1</td><td>4</td><td>0</td><td>6</td><td>0</td><td>1</td><td>0.24</td><td>0.2879</td><td>0.75</td><td>0.0000</td><td>0</td><td> 1</td><td> 1</td><td> 0.00</td><td>100.00</td></tr>\n",
       "\t<tr><td>6</td><td>2011-01-01</td><td>1</td><td>0</td><td>1</td><td>5</td><td>0</td><td>6</td><td>0</td><td>2</td><td>0.24</td><td>0.2576</td><td>0.75</td><td>0.0896</td><td>0</td><td> 1</td><td> 1</td><td> 0.00</td><td>100.00</td></tr>\n",
       "</tbody>\n",
       "</table>\n"
      ],
      "text/latex": [
       "A tibble: 6 × 19\n",
       "\\begin{tabular}{lllllllllllllllllll}\n",
       " instant & dteday & season & yr & mnth & hr & holiday & weekday & workingday & weathersit & temp & atemp & hum & windspeed & casual & registered & cnt & casual\\_percentage & registered\\_percentage\\\\\n",
       " <dbl> & <date> & <fct> & <int> & <int> & <dbl> & <int> & <int> & <int> & <int> & <dbl> & <dbl> & <dbl> & <dbl> & <int> & <int> & <int> & <dbl> & <dbl>\\\\\n",
       "\\hline\n",
       "\t 1 & 2011-01-01 & 1 & 0 & 1 & 0 & 0 & 6 & 0 & 1 & 0.24 & 0.2879 & 0.81 & 0.0000 & 3 & 13 & 16 & 18.75 &  81.25\\\\\n",
       "\t 2 & 2011-01-01 & 1 & 0 & 1 & 1 & 0 & 6 & 0 & 1 & 0.22 & 0.2727 & 0.80 & 0.0000 & 8 & 32 & 40 & 20.00 &  80.00\\\\\n",
       "\t 3 & 2011-01-01 & 1 & 0 & 1 & 2 & 0 & 6 & 0 & 1 & 0.22 & 0.2727 & 0.80 & 0.0000 & 5 & 27 & 32 & 15.62 &  84.38\\\\\n",
       "\t 4 & 2011-01-01 & 1 & 0 & 1 & 3 & 0 & 6 & 0 & 1 & 0.24 & 0.2879 & 0.75 & 0.0000 & 3 & 10 & 13 & 23.08 &  76.92\\\\\n",
       "\t 5 & 2011-01-01 & 1 & 0 & 1 & 4 & 0 & 6 & 0 & 1 & 0.24 & 0.2879 & 0.75 & 0.0000 & 0 &  1 &  1 &  0.00 & 100.00\\\\\n",
       "\t 6 & 2011-01-01 & 1 & 0 & 1 & 5 & 0 & 6 & 0 & 2 & 0.24 & 0.2576 & 0.75 & 0.0896 & 0 &  1 &  1 &  0.00 & 100.00\\\\\n",
       "\\end{tabular}\n"
      ],
      "text/markdown": [
       "\n",
       "A tibble: 6 × 19\n",
       "\n",
       "| instant &lt;dbl&gt; | dteday &lt;date&gt; | season &lt;fct&gt; | yr &lt;int&gt; | mnth &lt;int&gt; | hr &lt;dbl&gt; | holiday &lt;int&gt; | weekday &lt;int&gt; | workingday &lt;int&gt; | weathersit &lt;int&gt; | temp &lt;dbl&gt; | atemp &lt;dbl&gt; | hum &lt;dbl&gt; | windspeed &lt;dbl&gt; | casual &lt;int&gt; | registered &lt;int&gt; | cnt &lt;int&gt; | casual_percentage &lt;dbl&gt; | registered_percentage &lt;dbl&gt; |\n",
       "|---|---|---|---|---|---|---|---|---|---|---|---|---|---|---|---|---|---|---|\n",
       "| 1 | 2011-01-01 | 1 | 0 | 1 | 0 | 0 | 6 | 0 | 1 | 0.24 | 0.2879 | 0.81 | 0.0000 | 3 | 13 | 16 | 18.75 |  81.25 |\n",
       "| 2 | 2011-01-01 | 1 | 0 | 1 | 1 | 0 | 6 | 0 | 1 | 0.22 | 0.2727 | 0.80 | 0.0000 | 8 | 32 | 40 | 20.00 |  80.00 |\n",
       "| 3 | 2011-01-01 | 1 | 0 | 1 | 2 | 0 | 6 | 0 | 1 | 0.22 | 0.2727 | 0.80 | 0.0000 | 5 | 27 | 32 | 15.62 |  84.38 |\n",
       "| 4 | 2011-01-01 | 1 | 0 | 1 | 3 | 0 | 6 | 0 | 1 | 0.24 | 0.2879 | 0.75 | 0.0000 | 3 | 10 | 13 | 23.08 |  76.92 |\n",
       "| 5 | 2011-01-01 | 1 | 0 | 1 | 4 | 0 | 6 | 0 | 1 | 0.24 | 0.2879 | 0.75 | 0.0000 | 0 |  1 |  1 |  0.00 | 100.00 |\n",
       "| 6 | 2011-01-01 | 1 | 0 | 1 | 5 | 0 | 6 | 0 | 2 | 0.24 | 0.2576 | 0.75 | 0.0896 | 0 |  1 |  1 |  0.00 | 100.00 |\n",
       "\n"
      ],
      "text/plain": [
       "  instant dteday     season yr mnth hr holiday weekday workingday weathersit\n",
       "1 1       2011-01-01 1      0  1    0  0       6       0          1         \n",
       "2 2       2011-01-01 1      0  1    1  0       6       0          1         \n",
       "3 3       2011-01-01 1      0  1    2  0       6       0          1         \n",
       "4 4       2011-01-01 1      0  1    3  0       6       0          1         \n",
       "5 5       2011-01-01 1      0  1    4  0       6       0          1         \n",
       "6 6       2011-01-01 1      0  1    5  0       6       0          2         \n",
       "  temp atemp  hum  windspeed casual registered cnt casual_percentage\n",
       "1 0.24 0.2879 0.81 0.0000    3      13         16  18.75            \n",
       "2 0.22 0.2727 0.80 0.0000    8      32         40  20.00            \n",
       "3 0.22 0.2727 0.80 0.0000    5      27         32  15.62            \n",
       "4 0.24 0.2879 0.75 0.0000    3      10         13  23.08            \n",
       "5 0.24 0.2879 0.75 0.0000    0       1          1   0.00            \n",
       "6 0.24 0.2576 0.75 0.0896    0       1          1   0.00            \n",
       "  registered_percentage\n",
       "1  81.25               \n",
       "2  80.00               \n",
       "3  84.38               \n",
       "4  76.92               \n",
       "5 100.00               \n",
       "6 100.00               "
      ]
     },
     "metadata": {},
     "output_type": "display_data"
    }
   ],
   "source": [
    "bike_df_mutate<-bike_df%>%\n",
    "mutate(\n",
    "        casual_percentage=round(((casual/cnt)*100),2),\n",
    "        registered_percentage=round(((registered/cnt)*100),2)\n",
    "    )\n",
    "bike_df_mutate%>%\n",
    "head()"
   ]
  },
  {
   "cell_type": "code",
   "execution_count": null,
   "metadata": {},
   "outputs": [],
   "source": [
    "#tally function is used to show the total observations."
   ]
  },
  {
   "cell_type": "code",
   "execution_count": 16,
   "metadata": {},
   "outputs": [
    {
     "data": {
      "text/html": [
       "<table>\n",
       "<caption>A tibble: 1 × 1</caption>\n",
       "<thead>\n",
       "\t<tr><th scope=col>n</th></tr>\n",
       "\t<tr><th scope=col>&lt;int&gt;</th></tr>\n",
       "</thead>\n",
       "<tbody>\n",
       "\t<tr><td>17379</td></tr>\n",
       "</tbody>\n",
       "</table>\n"
      ],
      "text/latex": [
       "A tibble: 1 × 1\n",
       "\\begin{tabular}{l}\n",
       " n\\\\\n",
       " <int>\\\\\n",
       "\\hline\n",
       "\t 17379\\\\\n",
       "\\end{tabular}\n"
      ],
      "text/markdown": [
       "\n",
       "A tibble: 1 × 1\n",
       "\n",
       "| n &lt;int&gt; |\n",
       "|---|\n",
       "| 17379 |\n",
       "\n"
      ],
      "text/plain": [
       "  n    \n",
       "1 17379"
      ]
     },
     "metadata": {},
     "output_type": "display_data"
    }
   ],
   "source": [
    "bike_df %>% tally()"
   ]
  },
  {
   "cell_type": "markdown",
   "metadata": {},
   "source": [
    "### Task (e): wide, long, tidy (10 marks)\n",
    "\n",
    "Show that you can go back and forth between the long and the wide format of a dataframe. Then produce a tidy version of `bike_df` (or, if you think the original one is is already in the tidy data shape, explain why).\n",
    "\n",
    "_hint_ useful functions: `spread()`, `gather()`, `na.omit()`, ..."
   ]
  },
  {
   "cell_type": "code",
   "execution_count": null,
   "metadata": {},
   "outputs": [],
   "source": [
    "# spread function is used to change the long format into wide."
   ]
  },
  {
   "cell_type": "code",
   "execution_count": 17,
   "metadata": {},
   "outputs": [
    {
     "data": {
      "text/html": [
       "<table>\n",
       "<caption>A tibble: 6 × 19</caption>\n",
       "<thead>\n",
       "\t<tr><th scope=col>instant</th><th scope=col>dteday</th><th scope=col>season</th><th scope=col>yr</th><th scope=col>mnth</th><th scope=col>hr</th><th scope=col>holiday</th><th scope=col>weekday</th><th scope=col>workingday</th><th scope=col>atemp</th><th scope=col>hum</th><th scope=col>windspeed</th><th scope=col>casual</th><th scope=col>registered</th><th scope=col>cnt</th><th scope=col>1</th><th scope=col>2</th><th scope=col>3</th><th scope=col>4</th></tr>\n",
       "\t<tr><th scope=col>&lt;dbl&gt;</th><th scope=col>&lt;date&gt;</th><th scope=col>&lt;fct&gt;</th><th scope=col>&lt;int&gt;</th><th scope=col>&lt;int&gt;</th><th scope=col>&lt;dbl&gt;</th><th scope=col>&lt;int&gt;</th><th scope=col>&lt;int&gt;</th><th scope=col>&lt;int&gt;</th><th scope=col>&lt;dbl&gt;</th><th scope=col>&lt;dbl&gt;</th><th scope=col>&lt;dbl&gt;</th><th scope=col>&lt;int&gt;</th><th scope=col>&lt;int&gt;</th><th scope=col>&lt;int&gt;</th><th scope=col>&lt;dbl&gt;</th><th scope=col>&lt;dbl&gt;</th><th scope=col>&lt;dbl&gt;</th><th scope=col>&lt;dbl&gt;</th></tr>\n",
       "</thead>\n",
       "<tbody>\n",
       "\t<tr><td>1</td><td>2011-01-01</td><td>1</td><td>0</td><td>1</td><td>0</td><td>0</td><td>6</td><td>0</td><td>0.2879</td><td>0.81</td><td>0.0000</td><td>3</td><td>13</td><td>16</td><td>0.24</td><td>  NA</td><td>NA</td><td>NA</td></tr>\n",
       "\t<tr><td>2</td><td>2011-01-01</td><td>1</td><td>0</td><td>1</td><td>1</td><td>0</td><td>6</td><td>0</td><td>0.2727</td><td>0.80</td><td>0.0000</td><td>8</td><td>32</td><td>40</td><td>0.22</td><td>  NA</td><td>NA</td><td>NA</td></tr>\n",
       "\t<tr><td>3</td><td>2011-01-01</td><td>1</td><td>0</td><td>1</td><td>2</td><td>0</td><td>6</td><td>0</td><td>0.2727</td><td>0.80</td><td>0.0000</td><td>5</td><td>27</td><td>32</td><td>0.22</td><td>  NA</td><td>NA</td><td>NA</td></tr>\n",
       "\t<tr><td>4</td><td>2011-01-01</td><td>1</td><td>0</td><td>1</td><td>3</td><td>0</td><td>6</td><td>0</td><td>0.2879</td><td>0.75</td><td>0.0000</td><td>3</td><td>10</td><td>13</td><td>0.24</td><td>  NA</td><td>NA</td><td>NA</td></tr>\n",
       "\t<tr><td>5</td><td>2011-01-01</td><td>1</td><td>0</td><td>1</td><td>4</td><td>0</td><td>6</td><td>0</td><td>0.2879</td><td>0.75</td><td>0.0000</td><td>0</td><td> 1</td><td> 1</td><td>0.24</td><td>  NA</td><td>NA</td><td>NA</td></tr>\n",
       "\t<tr><td>6</td><td>2011-01-01</td><td>1</td><td>0</td><td>1</td><td>5</td><td>0</td><td>6</td><td>0</td><td>0.2576</td><td>0.75</td><td>0.0896</td><td>0</td><td> 1</td><td> 1</td><td>  NA</td><td>0.24</td><td>NA</td><td>NA</td></tr>\n",
       "</tbody>\n",
       "</table>\n"
      ],
      "text/latex": [
       "A tibble: 6 × 19\n",
       "\\begin{tabular}{lllllllllllllllllll}\n",
       " instant & dteday & season & yr & mnth & hr & holiday & weekday & workingday & atemp & hum & windspeed & casual & registered & cnt & 1 & 2 & 3 & 4\\\\\n",
       " <dbl> & <date> & <fct> & <int> & <int> & <dbl> & <int> & <int> & <int> & <dbl> & <dbl> & <dbl> & <int> & <int> & <int> & <dbl> & <dbl> & <dbl> & <dbl>\\\\\n",
       "\\hline\n",
       "\t 1 & 2011-01-01 & 1 & 0 & 1 & 0 & 0 & 6 & 0 & 0.2879 & 0.81 & 0.0000 & 3 & 13 & 16 & 0.24 &   NA & NA & NA\\\\\n",
       "\t 2 & 2011-01-01 & 1 & 0 & 1 & 1 & 0 & 6 & 0 & 0.2727 & 0.80 & 0.0000 & 8 & 32 & 40 & 0.22 &   NA & NA & NA\\\\\n",
       "\t 3 & 2011-01-01 & 1 & 0 & 1 & 2 & 0 & 6 & 0 & 0.2727 & 0.80 & 0.0000 & 5 & 27 & 32 & 0.22 &   NA & NA & NA\\\\\n",
       "\t 4 & 2011-01-01 & 1 & 0 & 1 & 3 & 0 & 6 & 0 & 0.2879 & 0.75 & 0.0000 & 3 & 10 & 13 & 0.24 &   NA & NA & NA\\\\\n",
       "\t 5 & 2011-01-01 & 1 & 0 & 1 & 4 & 0 & 6 & 0 & 0.2879 & 0.75 & 0.0000 & 0 &  1 &  1 & 0.24 &   NA & NA & NA\\\\\n",
       "\t 6 & 2011-01-01 & 1 & 0 & 1 & 5 & 0 & 6 & 0 & 0.2576 & 0.75 & 0.0896 & 0 &  1 &  1 &   NA & 0.24 & NA & NA\\\\\n",
       "\\end{tabular}\n"
      ],
      "text/markdown": [
       "\n",
       "A tibble: 6 × 19\n",
       "\n",
       "| instant &lt;dbl&gt; | dteday &lt;date&gt; | season &lt;fct&gt; | yr &lt;int&gt; | mnth &lt;int&gt; | hr &lt;dbl&gt; | holiday &lt;int&gt; | weekday &lt;int&gt; | workingday &lt;int&gt; | atemp &lt;dbl&gt; | hum &lt;dbl&gt; | windspeed &lt;dbl&gt; | casual &lt;int&gt; | registered &lt;int&gt; | cnt &lt;int&gt; | 1 &lt;dbl&gt; | 2 &lt;dbl&gt; | 3 &lt;dbl&gt; | 4 &lt;dbl&gt; |\n",
       "|---|---|---|---|---|---|---|---|---|---|---|---|---|---|---|---|---|---|---|\n",
       "| 1 | 2011-01-01 | 1 | 0 | 1 | 0 | 0 | 6 | 0 | 0.2879 | 0.81 | 0.0000 | 3 | 13 | 16 | 0.24 |   NA | NA | NA |\n",
       "| 2 | 2011-01-01 | 1 | 0 | 1 | 1 | 0 | 6 | 0 | 0.2727 | 0.80 | 0.0000 | 8 | 32 | 40 | 0.22 |   NA | NA | NA |\n",
       "| 3 | 2011-01-01 | 1 | 0 | 1 | 2 | 0 | 6 | 0 | 0.2727 | 0.80 | 0.0000 | 5 | 27 | 32 | 0.22 |   NA | NA | NA |\n",
       "| 4 | 2011-01-01 | 1 | 0 | 1 | 3 | 0 | 6 | 0 | 0.2879 | 0.75 | 0.0000 | 3 | 10 | 13 | 0.24 |   NA | NA | NA |\n",
       "| 5 | 2011-01-01 | 1 | 0 | 1 | 4 | 0 | 6 | 0 | 0.2879 | 0.75 | 0.0000 | 0 |  1 |  1 | 0.24 |   NA | NA | NA |\n",
       "| 6 | 2011-01-01 | 1 | 0 | 1 | 5 | 0 | 6 | 0 | 0.2576 | 0.75 | 0.0896 | 0 |  1 |  1 |   NA | 0.24 | NA | NA |\n",
       "\n"
      ],
      "text/plain": [
       "  instant dteday     season yr mnth hr holiday weekday workingday atemp  hum \n",
       "1 1       2011-01-01 1      0  1    0  0       6       0          0.2879 0.81\n",
       "2 2       2011-01-01 1      0  1    1  0       6       0          0.2727 0.80\n",
       "3 3       2011-01-01 1      0  1    2  0       6       0          0.2727 0.80\n",
       "4 4       2011-01-01 1      0  1    3  0       6       0          0.2879 0.75\n",
       "5 5       2011-01-01 1      0  1    4  0       6       0          0.2879 0.75\n",
       "6 6       2011-01-01 1      0  1    5  0       6       0          0.2576 0.75\n",
       "  windspeed casual registered cnt 1    2    3  4 \n",
       "1 0.0000    3      13         16  0.24   NA NA NA\n",
       "2 0.0000    8      32         40  0.22   NA NA NA\n",
       "3 0.0000    5      27         32  0.22   NA NA NA\n",
       "4 0.0000    3      10         13  0.24   NA NA NA\n",
       "5 0.0000    0       1          1  0.24   NA NA NA\n",
       "6 0.0896    0       1          1    NA 0.24 NA NA"
      ]
     },
     "metadata": {},
     "output_type": "display_data"
    }
   ],
   "source": [
    "bike_df_wide<- spread(bike_df,weathersit,temp)\n",
    "head(bike_df_wide)"
   ]
  },
  {
   "cell_type": "code",
   "execution_count": null,
   "metadata": {},
   "outputs": [],
   "source": [
    "# NA values are omitted by using the na.omit funtion.\n",
    "# It removes all the observation, beacause after changing into wide format NA values are attached into the dataframe\n",
    "# and makes the dataframe not tidy"
   ]
  },
  {
   "cell_type": "code",
   "execution_count": 18,
   "metadata": {},
   "outputs": [
    {
     "data": {
      "text/html": [
       "<table>\n",
       "<caption>A tibble: 0 × 19</caption>\n",
       "<thead>\n",
       "\t<tr><th scope=col>instant</th><th scope=col>dteday</th><th scope=col>season</th><th scope=col>yr</th><th scope=col>mnth</th><th scope=col>hr</th><th scope=col>holiday</th><th scope=col>weekday</th><th scope=col>workingday</th><th scope=col>atemp</th><th scope=col>hum</th><th scope=col>windspeed</th><th scope=col>casual</th><th scope=col>registered</th><th scope=col>cnt</th><th scope=col>1</th><th scope=col>2</th><th scope=col>3</th><th scope=col>4</th></tr>\n",
       "\t<tr><th scope=col>&lt;dbl&gt;</th><th scope=col>&lt;date&gt;</th><th scope=col>&lt;fct&gt;</th><th scope=col>&lt;int&gt;</th><th scope=col>&lt;int&gt;</th><th scope=col>&lt;dbl&gt;</th><th scope=col>&lt;int&gt;</th><th scope=col>&lt;int&gt;</th><th scope=col>&lt;int&gt;</th><th scope=col>&lt;dbl&gt;</th><th scope=col>&lt;dbl&gt;</th><th scope=col>&lt;dbl&gt;</th><th scope=col>&lt;int&gt;</th><th scope=col>&lt;int&gt;</th><th scope=col>&lt;int&gt;</th><th scope=col>&lt;dbl&gt;</th><th scope=col>&lt;dbl&gt;</th><th scope=col>&lt;dbl&gt;</th><th scope=col>&lt;dbl&gt;</th></tr>\n",
       "</thead>\n",
       "<tbody>\n",
       "</tbody>\n",
       "</table>\n"
      ],
      "text/latex": [
       "A tibble: 0 × 19\n",
       "\\begin{tabular}{lllllllllllllllllll}\n",
       " instant & dteday & season & yr & mnth & hr & holiday & weekday & workingday & atemp & hum & windspeed & casual & registered & cnt & 1 & 2 & 3 & 4\\\\\n",
       " <dbl> & <date> & <fct> & <int> & <int> & <dbl> & <int> & <int> & <int> & <dbl> & <dbl> & <dbl> & <int> & <int> & <int> & <dbl> & <dbl> & <dbl> & <dbl>\\\\\n",
       "\\hline\n",
       "\\end{tabular}\n"
      ],
      "text/markdown": [
       "\n",
       "A tibble: 0 × 19\n",
       "\n",
       "| instant &lt;dbl&gt; | dteday &lt;date&gt; | season &lt;fct&gt; | yr &lt;int&gt; | mnth &lt;int&gt; | hr &lt;dbl&gt; | holiday &lt;int&gt; | weekday &lt;int&gt; | workingday &lt;int&gt; | atemp &lt;dbl&gt; | hum &lt;dbl&gt; | windspeed &lt;dbl&gt; | casual &lt;int&gt; | registered &lt;int&gt; | cnt &lt;int&gt; | 1 &lt;dbl&gt; | 2 &lt;dbl&gt; | 3 &lt;dbl&gt; | 4 &lt;dbl&gt; |\n",
       "|---|---|---|---|---|---|---|---|---|---|---|---|---|---|---|---|---|---|---|\n",
       "\n"
      ],
      "text/plain": [
       "     instant dteday season yr mnth hr holiday weekday workingday atemp hum\n",
       "     windspeed casual registered cnt 1 2 3 4"
      ]
     },
     "metadata": {},
     "output_type": "display_data"
    }
   ],
   "source": [
    "bike_df_wide1 <- na.omit(bike_df_wide)\n",
    "head(bike_df_wide1)"
   ]
  },
  {
   "cell_type": "code",
   "execution_count": null,
   "metadata": {},
   "outputs": [],
   "source": [
    "# The dataframe is again changed into long because it looks tidy and meaningfull than the wide format"
   ]
  },
  {
   "cell_type": "code",
   "execution_count": 19,
   "metadata": {},
   "outputs": [
    {
     "data": {
      "text/html": [
       "<table>\n",
       "<caption>A tibble: 6 × 16</caption>\n",
       "<thead>\n",
       "\t<tr><th scope=col>instant</th><th scope=col>dteday</th><th scope=col>season</th><th scope=col>yr</th><th scope=col>mnth</th><th scope=col>hr</th><th scope=col>weekday</th><th scope=col>workingday</th><th scope=col>atemp</th><th scope=col>hum</th><th scope=col>windspeed</th><th scope=col>casual</th><th scope=col>registered</th><th scope=col>cnt</th><th scope=col>weathersit</th><th scope=col>temp</th></tr>\n",
       "\t<tr><th scope=col>&lt;dbl&gt;</th><th scope=col>&lt;date&gt;</th><th scope=col>&lt;fct&gt;</th><th scope=col>&lt;int&gt;</th><th scope=col>&lt;int&gt;</th><th scope=col>&lt;dbl&gt;</th><th scope=col>&lt;int&gt;</th><th scope=col>&lt;int&gt;</th><th scope=col>&lt;dbl&gt;</th><th scope=col>&lt;dbl&gt;</th><th scope=col>&lt;dbl&gt;</th><th scope=col>&lt;int&gt;</th><th scope=col>&lt;int&gt;</th><th scope=col>&lt;int&gt;</th><th scope=col>&lt;chr&gt;</th><th scope=col>&lt;dbl&gt;</th></tr>\n",
       "</thead>\n",
       "<tbody>\n",
       "\t<tr><td>1</td><td>2011-01-01</td><td>1</td><td>0</td><td>1</td><td>0</td><td>6</td><td>0</td><td>0.2879</td><td>0.81</td><td>0.0000</td><td>3</td><td>13</td><td>16</td><td>holiday</td><td>0</td></tr>\n",
       "\t<tr><td>2</td><td>2011-01-01</td><td>1</td><td>0</td><td>1</td><td>1</td><td>6</td><td>0</td><td>0.2727</td><td>0.80</td><td>0.0000</td><td>8</td><td>32</td><td>40</td><td>holiday</td><td>0</td></tr>\n",
       "\t<tr><td>3</td><td>2011-01-01</td><td>1</td><td>0</td><td>1</td><td>2</td><td>6</td><td>0</td><td>0.2727</td><td>0.80</td><td>0.0000</td><td>5</td><td>27</td><td>32</td><td>holiday</td><td>0</td></tr>\n",
       "\t<tr><td>4</td><td>2011-01-01</td><td>1</td><td>0</td><td>1</td><td>3</td><td>6</td><td>0</td><td>0.2879</td><td>0.75</td><td>0.0000</td><td>3</td><td>10</td><td>13</td><td>holiday</td><td>0</td></tr>\n",
       "\t<tr><td>5</td><td>2011-01-01</td><td>1</td><td>0</td><td>1</td><td>4</td><td>6</td><td>0</td><td>0.2879</td><td>0.75</td><td>0.0000</td><td>0</td><td> 1</td><td> 1</td><td>holiday</td><td>0</td></tr>\n",
       "\t<tr><td>6</td><td>2011-01-01</td><td>1</td><td>0</td><td>1</td><td>5</td><td>6</td><td>0</td><td>0.2576</td><td>0.75</td><td>0.0896</td><td>0</td><td> 1</td><td> 1</td><td>holiday</td><td>0</td></tr>\n",
       "</tbody>\n",
       "</table>\n"
      ],
      "text/latex": [
       "A tibble: 6 × 16\n",
       "\\begin{tabular}{llllllllllllllll}\n",
       " instant & dteday & season & yr & mnth & hr & weekday & workingday & atemp & hum & windspeed & casual & registered & cnt & weathersit & temp\\\\\n",
       " <dbl> & <date> & <fct> & <int> & <int> & <dbl> & <int> & <int> & <dbl> & <dbl> & <dbl> & <int> & <int> & <int> & <chr> & <dbl>\\\\\n",
       "\\hline\n",
       "\t 1 & 2011-01-01 & 1 & 0 & 1 & 0 & 6 & 0 & 0.2879 & 0.81 & 0.0000 & 3 & 13 & 16 & holiday & 0\\\\\n",
       "\t 2 & 2011-01-01 & 1 & 0 & 1 & 1 & 6 & 0 & 0.2727 & 0.80 & 0.0000 & 8 & 32 & 40 & holiday & 0\\\\\n",
       "\t 3 & 2011-01-01 & 1 & 0 & 1 & 2 & 6 & 0 & 0.2727 & 0.80 & 0.0000 & 5 & 27 & 32 & holiday & 0\\\\\n",
       "\t 4 & 2011-01-01 & 1 & 0 & 1 & 3 & 6 & 0 & 0.2879 & 0.75 & 0.0000 & 3 & 10 & 13 & holiday & 0\\\\\n",
       "\t 5 & 2011-01-01 & 1 & 0 & 1 & 4 & 6 & 0 & 0.2879 & 0.75 & 0.0000 & 0 &  1 &  1 & holiday & 0\\\\\n",
       "\t 6 & 2011-01-01 & 1 & 0 & 1 & 5 & 6 & 0 & 0.2576 & 0.75 & 0.0896 & 0 &  1 &  1 & holiday & 0\\\\\n",
       "\\end{tabular}\n"
      ],
      "text/markdown": [
       "\n",
       "A tibble: 6 × 16\n",
       "\n",
       "| instant &lt;dbl&gt; | dteday &lt;date&gt; | season &lt;fct&gt; | yr &lt;int&gt; | mnth &lt;int&gt; | hr &lt;dbl&gt; | weekday &lt;int&gt; | workingday &lt;int&gt; | atemp &lt;dbl&gt; | hum &lt;dbl&gt; | windspeed &lt;dbl&gt; | casual &lt;int&gt; | registered &lt;int&gt; | cnt &lt;int&gt; | weathersit &lt;chr&gt; | temp &lt;dbl&gt; |\n",
       "|---|---|---|---|---|---|---|---|---|---|---|---|---|---|---|---|\n",
       "| 1 | 2011-01-01 | 1 | 0 | 1 | 0 | 6 | 0 | 0.2879 | 0.81 | 0.0000 | 3 | 13 | 16 | holiday | 0 |\n",
       "| 2 | 2011-01-01 | 1 | 0 | 1 | 1 | 6 | 0 | 0.2727 | 0.80 | 0.0000 | 8 | 32 | 40 | holiday | 0 |\n",
       "| 3 | 2011-01-01 | 1 | 0 | 1 | 2 | 6 | 0 | 0.2727 | 0.80 | 0.0000 | 5 | 27 | 32 | holiday | 0 |\n",
       "| 4 | 2011-01-01 | 1 | 0 | 1 | 3 | 6 | 0 | 0.2879 | 0.75 | 0.0000 | 3 | 10 | 13 | holiday | 0 |\n",
       "| 5 | 2011-01-01 | 1 | 0 | 1 | 4 | 6 | 0 | 0.2879 | 0.75 | 0.0000 | 0 |  1 |  1 | holiday | 0 |\n",
       "| 6 | 2011-01-01 | 1 | 0 | 1 | 5 | 6 | 0 | 0.2576 | 0.75 | 0.0896 | 0 |  1 |  1 | holiday | 0 |\n",
       "\n"
      ],
      "text/plain": [
       "  instant dteday     season yr mnth hr weekday workingday atemp  hum  windspeed\n",
       "1 1       2011-01-01 1      0  1    0  6       0          0.2879 0.81 0.0000   \n",
       "2 2       2011-01-01 1      0  1    1  6       0          0.2727 0.80 0.0000   \n",
       "3 3       2011-01-01 1      0  1    2  6       0          0.2727 0.80 0.0000   \n",
       "4 4       2011-01-01 1      0  1    3  6       0          0.2879 0.75 0.0000   \n",
       "5 5       2011-01-01 1      0  1    4  6       0          0.2879 0.75 0.0000   \n",
       "6 6       2011-01-01 1      0  1    5  6       0          0.2576 0.75 0.0896   \n",
       "  casual registered cnt weathersit temp\n",
       "1 3      13         16  holiday    0   \n",
       "2 8      32         40  holiday    0   \n",
       "3 5      27         32  holiday    0   \n",
       "4 3      10         13  holiday    0   \n",
       "5 0       1          1  holiday    0   \n",
       "6 0       1          1  holiday    0   "
      ]
     },
     "metadata": {},
     "output_type": "display_data"
    }
   ],
   "source": [
    "bike_df_long <- bike_df_wide %>% \n",
    "gather(weathersit,temp,\n",
    "       c(-instant,-mnth,-dteday,-yr,-hr,-weekday,-workingday,\n",
    "         -atemp,-hum,-windspeed,-casual,-registered,-cnt,-season))\n",
    "head(bike_df_long)"
   ]
  },
  {
   "cell_type": "code",
   "execution_count": null,
   "metadata": {},
   "outputs": [],
   "source": [
    "# Changing the dataframe into wide format makes the data messy and not tidy.\n",
    "# The format is already in tidy,therefore no need to change anything."
   ]
  },
  {
   "cell_type": "markdown",
   "metadata": {},
   "source": [
    "### Task (f): plot (10 marks)\n",
    "\n",
    "Produce a beautiful graphical representation of the data in `bike_df` or of _some_ of the data in `bike_df`. You can try different geometries, themes, mappings, ... . Make sure you label the plots with titles, and axis labels. Notice that the focus is on the use of *plotting as a data model*, rather than on the *statistical modelling* of the data.\n",
    "\\[ Hint: if you can't find any plotting idea, try focusing on the count of total rental bikes, and how it varies through time, season, weather, temperature, humidty, wind-speed. \\]\n",
    "\n",
    "_hint_ useful functions: `ggplot()`, `ylab()`, `xlab()`, `geom_...()`, `aes()`, `facet_...()`, ..."
   ]
  },
  {
   "cell_type": "code",
   "execution_count": null,
   "metadata": {},
   "outputs": [],
   "source": [
    "# Ploting the data to see the distribution of user counts in each day by hour along with weathersit"
   ]
  },
  {
   "cell_type": "code",
   "execution_count": 20,
   "metadata": {},
   "outputs": [
    {
     "data": {
      "image/png": "[encoded data removed]",
      "text/plain": [
       "plot without title"
      ]
     },
     "metadata": {
      "image/png": {
       "height": 420,
       "width": 420
      }
     },
     "output_type": "display_data"
    }
   ],
   "source": [
    "plot_rental = bike_df %>% \n",
    "  ggplot(aes(x = hr, y = cnt,col=weathersit)) + \n",
    "  geom_point(size = 1, alpha = 1) + \n",
    "  labs(title = \"Distribution of users in each day by hours\",\n",
    "       x = \"Hours\",\n",
    "       y = \"Number of Users\") +\n",
    "  facet_grid(~weekday, labeller = label_both)+theme_minimal()\n",
    "plot_rental"
   ]
  },
  {
   "cell_type": "code",
   "execution_count": null,
   "metadata": {},
   "outputs": [],
   "source": [
    "# The above plot shows that the renting of bike is more in peak hours than normal hours except weekends"
   ]
  },
  {
   "cell_type": "code",
   "execution_count": null,
   "metadata": {},
   "outputs": [],
   "source": [
    "# Histogrm plot to represent rentals in each hour"
   ]
  },
  {
   "cell_type": "code",
   "execution_count": 24,
   "metadata": {},
   "outputs": [
    {
     "data": {
      "image/png": "[encoded data removed]",
      "text/plain": [
       "plot without title"
      ]
     },
     "metadata": {
      "image/png": {
       "height": 420,
       "width": 420
      }
     },
     "output_type": "display_data"
    }
   ],
   "source": [
    "plot_hist = bike_df %>% \n",
    "  ggplot(mapping=aes(x = hr, y = cnt))+\n",
    "  geom_bar(stat=\"identity\")+\n",
    "    labs(title = \"Distribution of users in each day by hours\",\n",
    "       x = \"Hours\",\n",
    "       y = \"Number of Users\")\n",
    "\n",
    "plot_hist"
   ]
  },
  {
   "cell_type": "code",
   "execution_count": null,
   "metadata": {},
   "outputs": [],
   "source": [
    "# The above plot shows the rentals are high during peak hours."
   ]
  },
  {
   "cell_type": "markdown",
   "metadata": {},
   "source": [
    "### Task (g): save (5 marks)\n",
    "\n",
    "Save your plot from Task (f) and your tidy dataset from Task (g) to disk. \n",
    "\n",
    "_hint_ useful functions: `write_csv()`, `ggsave()`,..."
   ]
  },
  {
   "cell_type": "code",
   "execution_count": null,
   "metadata": {},
   "outputs": [],
   "source": [
    "# saving plot as image in .png format"
   ]
  },
  {
   "cell_type": "code",
   "execution_count": 25,
   "metadata": {},
   "outputs": [
    {
     "name": "stderr",
     "output_type": "stream",
     "text": [
      "Saving 6.67 x 6.67 in image\n",
      "\n"
     ]
    }
   ],
   "source": [
    "ggsave(plot_rental, file=\"plot.png\") "
   ]
  },
  {
   "cell_type": "code",
   "execution_count": null,
   "metadata": {},
   "outputs": [],
   "source": [
    "# writing tidy dataset"
   ]
  },
  {
   "cell_type": "code",
   "execution_count": 26,
   "metadata": {},
   "outputs": [],
   "source": [
    "write_csv(bike_df_long,\"bike_df_long.csv\")"
   ]
  },
  {
   "cell_type": "markdown",
   "metadata": {},
   "source": [
    "### Challenge question (10 marks)\n",
    "\n",
    "You are the data scientist working for a bike rental company. The `hour.csv` is the data you have available. The bike rental CEO sometimes wakes up in the morning with these strange ideas, and you get to test them.\n",
    "\n",
    "One of the key element for the company is being sure that there are always enough bikes available for the users. So, we need to understand what makes a user rent a bike and what makes a user NOT rent a bike.\n",
    "Your CEO noticed thinks that one of the peak times for the registered users renting bikes is between 6am and 10am.\n",
    "\n",
    "Task (1): make a plot to check that (take seasonality into account in the plot).\n",
    "\n",
    "She also thought about an interesting hypothesis. A registered user usually finish working around 5pm. Between 5pm and 10pm, they notice the weather: in particular, the registered users are sensible to how good the weather is, and how stable it is. The morning after, between 6am and 10am, the amount of registered users renting a bike to go to work depends on the previous afternoon weather.\n",
    "\n",
    "Task (2): make one or more plot to test this hypothesis (again, consider seasonality in the plot).\n",
    "\n",
    "**Hint: Make your plots with some colour, good font size and visualisation.**"
   ]
  },
  {
   "cell_type": "code",
   "execution_count": null,
   "metadata": {},
   "outputs": [],
   "source": [
    "# Ploting the data to visualize number of registered users renting bikes in each hour based on season"
   ]
  },
  {
   "cell_type": "code",
   "execution_count": 27,
   "metadata": {},
   "outputs": [
    {
     "data": {
      "image/png": "[encoded data removed]",
      "text/plain": [
       "plot without title"
      ]
     },
     "metadata": {
      "image/png": {
       "height": 420,
       "width": 420
      }
     },
     "output_type": "display_data"
    }
   ],
   "source": [
    "plot_registered = bike_df %>% \n",
    "  ggplot(aes(x = hr, y = registered, col=weathersit)) + \n",
    "  geom_point(size = 1, alpha = 1) + \n",
    "  labs(title = \"Distribution of registered users in each day by hours in each season\",\n",
    "       x = \"Hours\",\n",
    "       y = \"Number of Users\") +\n",
    "  facet_grid(~season, labeller = label_both)+theme_minimal()\n",
    "plot_registered"
   ]
  },
  {
   "cell_type": "markdown",
   "metadata": {},
   "source": [
    "### Findings from the plot:\n",
    "\n"
   ]
  },
  {
   "cell_type": "markdown",
   "metadata": {},
   "source": [
    "The peak times for the registered users renting bikes is between 6am and 10am & between 5pm and 8pm. Among these two timings registered users rents bike between 5 pm and 8 pm is more than that of what the CEO thinks."
   ]
  },
  {
   "cell_type": "code",
   "execution_count": null,
   "metadata": {},
   "outputs": [],
   "source": [
    "# Creating a dataframe for values between 5pm and 10pm"
   ]
  },
  {
   "cell_type": "code",
   "execution_count": 28,
   "metadata": {},
   "outputs": [],
   "source": [
    "bike_df_avg1<-bike_df%>%\n",
    "            filter(hr>=17 & hr<=22)"
   ]
  },
  {
   "cell_type": "code",
   "execution_count": null,
   "metadata": {},
   "outputs": [],
   "source": [
    "# selecting the required columns for further data processing.\n",
    "# average weathersit value is taken for each day except first and last date because we need to analyse \n",
    "# the registered count data using previous day weathersit"
   ]
  },
  {
   "cell_type": "code",
   "execution_count": 30,
   "metadata": {},
   "outputs": [
    {
     "name": "stderr",
     "output_type": "stream",
     "text": [
      "`summarise()` regrouping output by 'dteday' (override with `.groups` argument)\n",
      "\n"
     ]
    },
    {
     "data": {
      "text/html": [
       "<table>\n",
       "<caption>A grouped_df: 6 × 4</caption>\n",
       "<thead>\n",
       "\t<tr><th scope=col>dteday</th><th scope=col>season</th><th scope=col>avg_weathersit</th><th scope=col>next_day</th></tr>\n",
       "\t<tr><th scope=col>&lt;date&gt;</th><th scope=col>&lt;fct&gt;</th><th scope=col>&lt;dbl&gt;</th><th scope=col>&lt;date&gt;</th></tr>\n",
       "</thead>\n",
       "<tbody>\n",
       "\t<tr><td>2011-01-01</td><td>1</td><td>2.3</td><td>2011-01-02</td></tr>\n",
       "\t<tr><td>2011-01-02</td><td>1</td><td>1.2</td><td>2011-01-03</td></tr>\n",
       "\t<tr><td>2011-01-03</td><td>1</td><td>1.0</td><td>2011-01-04</td></tr>\n",
       "\t<tr><td>2011-01-04</td><td>1</td><td>1.0</td><td>2011-01-05</td></tr>\n",
       "\t<tr><td>2011-01-05</td><td>1</td><td>1.0</td><td>2011-01-06</td></tr>\n",
       "\t<tr><td>2011-01-06</td><td>1</td><td>1.3</td><td>2011-01-07</td></tr>\n",
       "</tbody>\n",
       "</table>\n"
      ],
      "text/latex": [
       "A grouped\\_df: 6 × 4\n",
       "\\begin{tabular}{llll}\n",
       " dteday & season & avg\\_weathersit & next\\_day\\\\\n",
       " <date> & <fct> & <dbl> & <date>\\\\\n",
       "\\hline\n",
       "\t 2011-01-01 & 1 & 2.3 & 2011-01-02\\\\\n",
       "\t 2011-01-02 & 1 & 1.2 & 2011-01-03\\\\\n",
       "\t 2011-01-03 & 1 & 1.0 & 2011-01-04\\\\\n",
       "\t 2011-01-04 & 1 & 1.0 & 2011-01-05\\\\\n",
       "\t 2011-01-05 & 1 & 1.0 & 2011-01-06\\\\\n",
       "\t 2011-01-06 & 1 & 1.3 & 2011-01-07\\\\\n",
       "\\end{tabular}\n"
      ],
      "text/markdown": [
       "\n",
       "A grouped_df: 6 × 4\n",
       "\n",
       "| dteday &lt;date&gt; | season &lt;fct&gt; | avg_weathersit &lt;dbl&gt; | next_day &lt;date&gt; |\n",
       "|---|---|---|---|\n",
       "| 2011-01-01 | 1 | 2.3 | 2011-01-02 |\n",
       "| 2011-01-02 | 1 | 1.2 | 2011-01-03 |\n",
       "| 2011-01-03 | 1 | 1.0 | 2011-01-04 |\n",
       "| 2011-01-04 | 1 | 1.0 | 2011-01-05 |\n",
       "| 2011-01-05 | 1 | 1.0 | 2011-01-06 |\n",
       "| 2011-01-06 | 1 | 1.3 | 2011-01-07 |\n",
       "\n"
      ],
      "text/plain": [
       "  dteday     season avg_weathersit next_day  \n",
       "1 2011-01-01 1      2.3            2011-01-02\n",
       "2 2011-01-02 1      1.2            2011-01-03\n",
       "3 2011-01-03 1      1.0            2011-01-04\n",
       "4 2011-01-04 1      1.0            2011-01-05\n",
       "5 2011-01-05 1      1.0            2011-01-06\n",
       "6 2011-01-06 1      1.3            2011-01-07"
      ]
     },
     "metadata": {},
     "output_type": "display_data"
    }
   ],
   "source": [
    "bike_df_avg2<-bike_df_avg1%>%\n",
    "            select(dteday,weathersit,season)%>%     \n",
    "            group_by(dteday,season)\n",
    "bike_df_avg2<-bike_df_avg2%>%\n",
    "    summarise(avg_weathersit=round(mean(weathersit),1))%>%\n",
    "    mutate(next_day=dteday+1)\n",
    "    head(bike_df_avg2)"
   ]
  },
  {
   "cell_type": "code",
   "execution_count": null,
   "metadata": {},
   "outputs": [],
   "source": [
    "# registered count for each day is taken and added all the counts between 6am and 10am\n",
    "# Average weathersit value and total registered count is joined using merge by date\n",
    "# Columns are renamed for better understanding"
   ]
  },
  {
   "cell_type": "code",
   "execution_count": 31,
   "metadata": {},
   "outputs": [
    {
     "name": "stderr",
     "output_type": "stream",
     "text": [
      "`summarise()` ungrouping output (override with `.groups` argument)\n",
      "\n"
     ]
    }
   ],
   "source": [
    "bike_df_sum<-bike_df%>%\n",
    "            select(dteday,registered,hr)%>%\n",
    "            filter(hr>=6 & hr<=10)%>%\n",
    "            group_by(dteday)\n",
    "\n",
    "bike_df_sum<-bike_df_sum%>%\n",
    "            summarise(total_registered_count=sum(registered))%>%\n",
    "            mutate(next_day=dteday)"
   ]
  },
  {
   "cell_type": "code",
   "execution_count": 32,
   "metadata": {},
   "outputs": [
    {
     "data": {
      "text/html": [
       "<table>\n",
       "<caption>A data.frame: 726 × 4</caption>\n",
       "<thead>\n",
       "\t<tr><th scope=col>Date</th><th scope=col>total_registered_count</th><th scope=col>previous_day_avgweathersit</th><th scope=col>season</th></tr>\n",
       "\t<tr><th scope=col>&lt;date&gt;</th><th scope=col>&lt;int&gt;</th><th scope=col>&lt;dbl&gt;</th><th scope=col>&lt;fct&gt;</th></tr>\n",
       "</thead>\n",
       "<tbody>\n",
       "\t<tr><td>2011-01-02</td><td> 76</td><td>2.3</td><td>1</td></tr>\n",
       "\t<tr><td>2011-01-03</td><td>360</td><td>1.2</td><td>1</td></tr>\n",
       "\t<tr><td>2011-01-04</td><td>440</td><td>1.0</td><td>1</td></tr>\n",
       "\t<tr><td>2011-01-05</td><td>474</td><td>1.0</td><td>1</td></tr>\n",
       "\t<tr><td>2011-01-06</td><td>505</td><td>1.0</td><td>1</td></tr>\n",
       "\t<tr><td>2011-01-07</td><td>464</td><td>1.3</td><td>1</td></tr>\n",
       "\t<tr><td>2011-01-08</td><td>101</td><td>1.3</td><td>1</td></tr>\n",
       "\t<tr><td>2011-01-09</td><td> 84</td><td>1.0</td><td>1</td></tr>\n",
       "\t<tr><td>2011-01-10</td><td>413</td><td>1.0</td><td>1</td></tr>\n",
       "\t<tr><td>2011-01-11</td><td>516</td><td>1.0</td><td>1</td></tr>\n",
       "\t<tr><td>2011-01-12</td><td>312</td><td>2.8</td><td>1</td></tr>\n",
       "\t<tr><td>2011-01-13</td><td>470</td><td>1.0</td><td>1</td></tr>\n",
       "\t<tr><td>2011-01-14</td><td>400</td><td>1.0</td><td>1</td></tr>\n",
       "\t<tr><td>2011-01-15</td><td>121</td><td>1.2</td><td>1</td></tr>\n",
       "\t<tr><td>2011-01-16</td><td>122</td><td>2.0</td><td>1</td></tr>\n",
       "\t<tr><td>2011-01-17</td><td>133</td><td>1.2</td><td>1</td></tr>\n",
       "\t<tr><td>2011-01-19</td><td>470</td><td>2.0</td><td>1</td></tr>\n",
       "\t<tr><td>2011-01-20</td><td>578</td><td>1.0</td><td>1</td></tr>\n",
       "\t<tr><td>2011-01-21</td><td>519</td><td>1.8</td><td>1</td></tr>\n",
       "\t<tr><td>2011-01-22</td><td>123</td><td>1.0</td><td>1</td></tr>\n",
       "\t<tr><td>2011-01-23</td><td> 95</td><td>1.0</td><td>1</td></tr>\n",
       "\t<tr><td>2011-01-24</td><td>397</td><td>1.0</td><td>1</td></tr>\n",
       "\t<tr><td>2011-01-25</td><td>554</td><td>1.2</td><td>1</td></tr>\n",
       "\t<tr><td>2011-01-26</td><td>187</td><td>1.3</td><td>1</td></tr>\n",
       "\t<tr><td>2011-01-28</td><td>373</td><td>1.0</td><td>1</td></tr>\n",
       "\t<tr><td>2011-01-29</td><td>122</td><td>1.5</td><td>1</td></tr>\n",
       "\t<tr><td>2011-01-30</td><td>105</td><td>1.2</td><td>1</td></tr>\n",
       "\t<tr><td>2011-01-31</td><td>470</td><td>1.5</td><td>1</td></tr>\n",
       "\t<tr><td>2011-02-01</td><td>367</td><td>2.2</td><td>1</td></tr>\n",
       "\t<tr><td>2011-02-02</td><td>397</td><td>2.0</td><td>1</td></tr>\n",
       "\t<tr><td>...</td><td>...</td><td>...</td><td>...</td></tr>\n",
       "\t<tr><td>2012-12-02</td><td> 487</td><td>1.8</td><td>4</td></tr>\n",
       "\t<tr><td>2012-12-03</td><td>1629</td><td>2.2</td><td>4</td></tr>\n",
       "\t<tr><td>2012-12-04</td><td>1792</td><td>1.2</td><td>4</td></tr>\n",
       "\t<tr><td>2012-12-05</td><td>1734</td><td>1.5</td><td>4</td></tr>\n",
       "\t<tr><td>2012-12-06</td><td>1528</td><td>1.0</td><td>4</td></tr>\n",
       "\t<tr><td>2012-12-07</td><td>1167</td><td>1.3</td><td>4</td></tr>\n",
       "\t<tr><td>2012-12-08</td><td> 558</td><td>2.2</td><td>4</td></tr>\n",
       "\t<tr><td>2012-12-09</td><td> 370</td><td>1.5</td><td>4</td></tr>\n",
       "\t<tr><td>2012-12-10</td><td>1381</td><td>2.8</td><td>4</td></tr>\n",
       "\t<tr><td>2012-12-11</td><td>1662</td><td>1.7</td><td>4</td></tr>\n",
       "\t<tr><td>2012-12-12</td><td>1550</td><td>1.0</td><td>4</td></tr>\n",
       "\t<tr><td>2012-12-13</td><td>1586</td><td>1.8</td><td>4</td></tr>\n",
       "\t<tr><td>2012-12-14</td><td>1532</td><td>1.0</td><td>4</td></tr>\n",
       "\t<tr><td>2012-12-15</td><td> 622</td><td>1.0</td><td>4</td></tr>\n",
       "\t<tr><td>2012-12-16</td><td> 432</td><td>1.2</td><td>4</td></tr>\n",
       "\t<tr><td>2012-12-17</td><td>1394</td><td>2.0</td><td>4</td></tr>\n",
       "\t<tr><td>2012-12-18</td><td>1589</td><td>2.0</td><td>4</td></tr>\n",
       "\t<tr><td>2012-12-19</td><td>1590</td><td>1.0</td><td>4</td></tr>\n",
       "\t<tr><td>2012-12-20</td><td>1486</td><td>1.0</td><td>4</td></tr>\n",
       "\t<tr><td>2012-12-21</td><td>1156</td><td>2.7</td><td>4</td></tr>\n",
       "\t<tr><td>2012-12-22</td><td> 242</td><td>1.3</td><td>1</td></tr>\n",
       "\t<tr><td>2012-12-23</td><td> 180</td><td>1.0</td><td>1</td></tr>\n",
       "\t<tr><td>2012-12-24</td><td> 255</td><td>1.0</td><td>1</td></tr>\n",
       "\t<tr><td>2012-12-25</td><td>  64</td><td>2.7</td><td>1</td></tr>\n",
       "\t<tr><td>2012-12-26</td><td> 123</td><td>2.0</td><td>1</td></tr>\n",
       "\t<tr><td>2012-12-27</td><td> 535</td><td>2.8</td><td>1</td></tr>\n",
       "\t<tr><td>2012-12-28</td><td> 656</td><td>1.7</td><td>1</td></tr>\n",
       "\t<tr><td>2012-12-29</td><td> 127</td><td>1.7</td><td>1</td></tr>\n",
       "\t<tr><td>2012-12-30</td><td> 208</td><td>1.7</td><td>1</td></tr>\n",
       "\t<tr><td>2012-12-31</td><td> 541</td><td>1.2</td><td>1</td></tr>\n",
       "</tbody>\n",
       "</table>\n"
      ],
      "text/latex": [
       "A data.frame: 726 × 4\n",
       "\\begin{tabular}{llll}\n",
       " Date & total\\_registered\\_count & previous\\_day\\_avgweathersit & season\\\\\n",
       " <date> & <int> & <dbl> & <fct>\\\\\n",
       "\\hline\n",
       "\t 2011-01-02 &  76 & 2.3 & 1\\\\\n",
       "\t 2011-01-03 & 360 & 1.2 & 1\\\\\n",
       "\t 2011-01-04 & 440 & 1.0 & 1\\\\\n",
       "\t 2011-01-05 & 474 & 1.0 & 1\\\\\n",
       "\t 2011-01-06 & 505 & 1.0 & 1\\\\\n",
       "\t 2011-01-07 & 464 & 1.3 & 1\\\\\n",
       "\t 2011-01-08 & 101 & 1.3 & 1\\\\\n",
       "\t 2011-01-09 &  84 & 1.0 & 1\\\\\n",
       "\t 2011-01-10 & 413 & 1.0 & 1\\\\\n",
       "\t 2011-01-11 & 516 & 1.0 & 1\\\\\n",
       "\t 2011-01-12 & 312 & 2.8 & 1\\\\\n",
       "\t 2011-01-13 & 470 & 1.0 & 1\\\\\n",
       "\t 2011-01-14 & 400 & 1.0 & 1\\\\\n",
       "\t 2011-01-15 & 121 & 1.2 & 1\\\\\n",
       "\t 2011-01-16 & 122 & 2.0 & 1\\\\\n",
       "\t 2011-01-17 & 133 & 1.2 & 1\\\\\n",
       "\t 2011-01-19 & 470 & 2.0 & 1\\\\\n",
       "\t 2011-01-20 & 578 & 1.0 & 1\\\\\n",
       "\t 2011-01-21 & 519 & 1.8 & 1\\\\\n",
       "\t 2011-01-22 & 123 & 1.0 & 1\\\\\n",
       "\t 2011-01-23 &  95 & 1.0 & 1\\\\\n",
       "\t 2011-01-24 & 397 & 1.0 & 1\\\\\n",
       "\t 2011-01-25 & 554 & 1.2 & 1\\\\\n",
       "\t 2011-01-26 & 187 & 1.3 & 1\\\\\n",
       "\t 2011-01-28 & 373 & 1.0 & 1\\\\\n",
       "\t 2011-01-29 & 122 & 1.5 & 1\\\\\n",
       "\t 2011-01-30 & 105 & 1.2 & 1\\\\\n",
       "\t 2011-01-31 & 470 & 1.5 & 1\\\\\n",
       "\t 2011-02-01 & 367 & 2.2 & 1\\\\\n",
       "\t 2011-02-02 & 397 & 2.0 & 1\\\\\n",
       "\t ... & ... & ... & ...\\\\\n",
       "\t 2012-12-02 &  487 & 1.8 & 4\\\\\n",
       "\t 2012-12-03 & 1629 & 2.2 & 4\\\\\n",
       "\t 2012-12-04 & 1792 & 1.2 & 4\\\\\n",
       "\t 2012-12-05 & 1734 & 1.5 & 4\\\\\n",
       "\t 2012-12-06 & 1528 & 1.0 & 4\\\\\n",
       "\t 2012-12-07 & 1167 & 1.3 & 4\\\\\n",
       "\t 2012-12-08 &  558 & 2.2 & 4\\\\\n",
       "\t 2012-12-09 &  370 & 1.5 & 4\\\\\n",
       "\t 2012-12-10 & 1381 & 2.8 & 4\\\\\n",
       "\t 2012-12-11 & 1662 & 1.7 & 4\\\\\n",
       "\t 2012-12-12 & 1550 & 1.0 & 4\\\\\n",
       "\t 2012-12-13 & 1586 & 1.8 & 4\\\\\n",
       "\t 2012-12-14 & 1532 & 1.0 & 4\\\\\n",
       "\t 2012-12-15 &  622 & 1.0 & 4\\\\\n",
       "\t 2012-12-16 &  432 & 1.2 & 4\\\\\n",
       "\t 2012-12-17 & 1394 & 2.0 & 4\\\\\n",
       "\t 2012-12-18 & 1589 & 2.0 & 4\\\\\n",
       "\t 2012-12-19 & 1590 & 1.0 & 4\\\\\n",
       "\t 2012-12-20 & 1486 & 1.0 & 4\\\\\n",
       "\t 2012-12-21 & 1156 & 2.7 & 4\\\\\n",
       "\t 2012-12-22 &  242 & 1.3 & 1\\\\\n",
       "\t 2012-12-23 &  180 & 1.0 & 1\\\\\n",
       "\t 2012-12-24 &  255 & 1.0 & 1\\\\\n",
       "\t 2012-12-25 &   64 & 2.7 & 1\\\\\n",
       "\t 2012-12-26 &  123 & 2.0 & 1\\\\\n",
       "\t 2012-12-27 &  535 & 2.8 & 1\\\\\n",
       "\t 2012-12-28 &  656 & 1.7 & 1\\\\\n",
       "\t 2012-12-29 &  127 & 1.7 & 1\\\\\n",
       "\t 2012-12-30 &  208 & 1.7 & 1\\\\\n",
       "\t 2012-12-31 &  541 & 1.2 & 1\\\\\n",
       "\\end{tabular}\n"
      ],
      "text/markdown": [
       "\n",
       "A data.frame: 726 × 4\n",
       "\n",
       "| Date &lt;date&gt; | total_registered_count &lt;int&gt; | previous_day_avgweathersit &lt;dbl&gt; | season &lt;fct&gt; |\n",
       "|---|---|---|---|\n",
       "| 2011-01-02 |  76 | 2.3 | 1 |\n",
       "| 2011-01-03 | 360 | 1.2 | 1 |\n",
       "| 2011-01-04 | 440 | 1.0 | 1 |\n",
       "| 2011-01-05 | 474 | 1.0 | 1 |\n",
       "| 2011-01-06 | 505 | 1.0 | 1 |\n",
       "| 2011-01-07 | 464 | 1.3 | 1 |\n",
       "| 2011-01-08 | 101 | 1.3 | 1 |\n",
       "| 2011-01-09 |  84 | 1.0 | 1 |\n",
       "| 2011-01-10 | 413 | 1.0 | 1 |\n",
       "| 2011-01-11 | 516 | 1.0 | 1 |\n",
       "| 2011-01-12 | 312 | 2.8 | 1 |\n",
       "| 2011-01-13 | 470 | 1.0 | 1 |\n",
       "| 2011-01-14 | 400 | 1.0 | 1 |\n",
       "| 2011-01-15 | 121 | 1.2 | 1 |\n",
       "| 2011-01-16 | 122 | 2.0 | 1 |\n",
       "| 2011-01-17 | 133 | 1.2 | 1 |\n",
       "| 2011-01-19 | 470 | 2.0 | 1 |\n",
       "| 2011-01-20 | 578 | 1.0 | 1 |\n",
       "| 2011-01-21 | 519 | 1.8 | 1 |\n",
       "| 2011-01-22 | 123 | 1.0 | 1 |\n",
       "| 2011-01-23 |  95 | 1.0 | 1 |\n",
       "| 2011-01-24 | 397 | 1.0 | 1 |\n",
       "| 2011-01-25 | 554 | 1.2 | 1 |\n",
       "| 2011-01-26 | 187 | 1.3 | 1 |\n",
       "| 2011-01-28 | 373 | 1.0 | 1 |\n",
       "| 2011-01-29 | 122 | 1.5 | 1 |\n",
       "| 2011-01-30 | 105 | 1.2 | 1 |\n",
       "| 2011-01-31 | 470 | 1.5 | 1 |\n",
       "| 2011-02-01 | 367 | 2.2 | 1 |\n",
       "| 2011-02-02 | 397 | 2.0 | 1 |\n",
       "| ... | ... | ... | ... |\n",
       "| 2012-12-02 |  487 | 1.8 | 4 |\n",
       "| 2012-12-03 | 1629 | 2.2 | 4 |\n",
       "| 2012-12-04 | 1792 | 1.2 | 4 |\n",
       "| 2012-12-05 | 1734 | 1.5 | 4 |\n",
       "| 2012-12-06 | 1528 | 1.0 | 4 |\n",
       "| 2012-12-07 | 1167 | 1.3 | 4 |\n",
       "| 2012-12-08 |  558 | 2.2 | 4 |\n",
       "| 2012-12-09 |  370 | 1.5 | 4 |\n",
       "| 2012-12-10 | 1381 | 2.8 | 4 |\n",
       "| 2012-12-11 | 1662 | 1.7 | 4 |\n",
       "| 2012-12-12 | 1550 | 1.0 | 4 |\n",
       "| 2012-12-13 | 1586 | 1.8 | 4 |\n",
       "| 2012-12-14 | 1532 | 1.0 | 4 |\n",
       "| 2012-12-15 |  622 | 1.0 | 4 |\n",
       "| 2012-12-16 |  432 | 1.2 | 4 |\n",
       "| 2012-12-17 | 1394 | 2.0 | 4 |\n",
       "| 2012-12-18 | 1589 | 2.0 | 4 |\n",
       "| 2012-12-19 | 1590 | 1.0 | 4 |\n",
       "| 2012-12-20 | 1486 | 1.0 | 4 |\n",
       "| 2012-12-21 | 1156 | 2.7 | 4 |\n",
       "| 2012-12-22 |  242 | 1.3 | 1 |\n",
       "| 2012-12-23 |  180 | 1.0 | 1 |\n",
       "| 2012-12-24 |  255 | 1.0 | 1 |\n",
       "| 2012-12-25 |   64 | 2.7 | 1 |\n",
       "| 2012-12-26 |  123 | 2.0 | 1 |\n",
       "| 2012-12-27 |  535 | 2.8 | 1 |\n",
       "| 2012-12-28 |  656 | 1.7 | 1 |\n",
       "| 2012-12-29 |  127 | 1.7 | 1 |\n",
       "| 2012-12-30 |  208 | 1.7 | 1 |\n",
       "| 2012-12-31 |  541 | 1.2 | 1 |\n",
       "\n"
      ],
      "text/plain": [
       "    Date       total_registered_count previous_day_avgweathersit season\n",
       "1   2011-01-02  76                    2.3                        1     \n",
       "2   2011-01-03 360                    1.2                        1     \n",
       "3   2011-01-04 440                    1.0                        1     \n",
       "4   2011-01-05 474                    1.0                        1     \n",
       "5   2011-01-06 505                    1.0                        1     \n",
       "6   2011-01-07 464                    1.3                        1     \n",
       "7   2011-01-08 101                    1.3                        1     \n",
       "8   2011-01-09  84                    1.0                        1     \n",
       "9   2011-01-10 413                    1.0                        1     \n",
       "10  2011-01-11 516                    1.0                        1     \n",
       "11  2011-01-12 312                    2.8                        1     \n",
       "12  2011-01-13 470                    1.0                        1     \n",
       "13  2011-01-14 400                    1.0                        1     \n",
       "14  2011-01-15 121                    1.2                        1     \n",
       "15  2011-01-16 122                    2.0                        1     \n",
       "16  2011-01-17 133                    1.2                        1     \n",
       "17  2011-01-19 470                    2.0                        1     \n",
       "18  2011-01-20 578                    1.0                        1     \n",
       "19  2011-01-21 519                    1.8                        1     \n",
       "20  2011-01-22 123                    1.0                        1     \n",
       "21  2011-01-23  95                    1.0                        1     \n",
       "22  2011-01-24 397                    1.0                        1     \n",
       "23  2011-01-25 554                    1.2                        1     \n",
       "24  2011-01-26 187                    1.3                        1     \n",
       "25  2011-01-28 373                    1.0                        1     \n",
       "26  2011-01-29 122                    1.5                        1     \n",
       "27  2011-01-30 105                    1.2                        1     \n",
       "28  2011-01-31 470                    1.5                        1     \n",
       "29  2011-02-01 367                    2.2                        1     \n",
       "30  2011-02-02 397                    2.0                        1     \n",
       "... ...        ...                    ...                        ...   \n",
       "697 2012-12-02  487                   1.8                        4     \n",
       "698 2012-12-03 1629                   2.2                        4     \n",
       "699 2012-12-04 1792                   1.2                        4     \n",
       "700 2012-12-05 1734                   1.5                        4     \n",
       "701 2012-12-06 1528                   1.0                        4     \n",
       "702 2012-12-07 1167                   1.3                        4     \n",
       "703 2012-12-08  558                   2.2                        4     \n",
       "704 2012-12-09  370                   1.5                        4     \n",
       "705 2012-12-10 1381                   2.8                        4     \n",
       "706 2012-12-11 1662                   1.7                        4     \n",
       "707 2012-12-12 1550                   1.0                        4     \n",
       "708 2012-12-13 1586                   1.8                        4     \n",
       "709 2012-12-14 1532                   1.0                        4     \n",
       "710 2012-12-15  622                   1.0                        4     \n",
       "711 2012-12-16  432                   1.2                        4     \n",
       "712 2012-12-17 1394                   2.0                        4     \n",
       "713 2012-12-18 1589                   2.0                        4     \n",
       "714 2012-12-19 1590                   1.0                        4     \n",
       "715 2012-12-20 1486                   1.0                        4     \n",
       "716 2012-12-21 1156                   2.7                        4     \n",
       "717 2012-12-22  242                   1.3                        1     \n",
       "718 2012-12-23  180                   1.0                        1     \n",
       "719 2012-12-24  255                   1.0                        1     \n",
       "720 2012-12-25   64                   2.7                        1     \n",
       "721 2012-12-26  123                   2.0                        1     \n",
       "722 2012-12-27  535                   2.8                        1     \n",
       "723 2012-12-28  656                   1.7                        1     \n",
       "724 2012-12-29  127                   1.7                        1     \n",
       "725 2012-12-30  208                   1.7                        1     \n",
       "726 2012-12-31  541                   1.2                        1     "
      ]
     },
     "metadata": {},
     "output_type": "display_data"
    }
   ],
   "source": [
    "bike_df_merged<-merge(bike_df_sum, bike_df_avg2, by = \"next_day\")\n",
    "bike_df_merged<-bike_df_merged%>%\n",
    "            select(next_day,total_registered_count,avg_weathersit,season)\n",
    "bike_df_merged<-bike_df_merged%>%\n",
    "            rename(Date=next_day,previous_day_avgweathersit=avg_weathersit)\n",
    "bike_df_merged"
   ]
  },
  {
   "cell_type": "code",
   "execution_count": null,
   "metadata": {},
   "outputs": [],
   "source": [
    "# the merged dataframe is splitted into two dataframes as good and bad\n",
    "# The average weathersit value less than 2 is considered as good weather\n",
    "# The average weathersit value greater than 2 is considered as bad weather\n",
    "# These assumptions are made for plotting the data meaningfull and tidy"
   ]
  },
  {
   "cell_type": "code",
   "execution_count": 33,
   "metadata": {},
   "outputs": [],
   "source": [
    "bike_df_good<-bike_df_merged%>%\n",
    "           filter(previous_day_avgweathersit<=2)\n",
    "bike_df_bad<-bike_df_merged%>%\n",
    "           filter(previous_day_avgweathersit>=2)\n"
   ]
  },
  {
   "cell_type": "code",
   "execution_count": 34,
   "metadata": {},
   "outputs": [
    {
     "data": {
      "image/png": "[encoded data removed]",
      "text/plain": [
       "plot without title"
      ]
     },
     "metadata": {
      "image/png": {
       "height": 420,
       "width": 420
      }
     },
     "output_type": "display_data"
    }
   ],
   "source": [
    "plot_good = bike_df_good %>% \n",
    "    ggplot(mapping = aes(x = Date, \n",
    "      y = total_registered_count,\n",
    "      colour = season)) + \n",
    "  geom_point()\n",
    "plot_good"
   ]
  },
  {
   "cell_type": "code",
   "execution_count": 35,
   "metadata": {},
   "outputs": [
    {
     "data": {
      "image/png": "[encoded data removed]",
      "text/plain": [
       "plot without title"
      ]
     },
     "metadata": {
      "image/png": {
       "height": 420,
       "width": 420
      }
     },
     "output_type": "display_data"
    }
   ],
   "source": [
    "plot_bad = bike_df_bad %>% \n",
    "    ggplot(mapping = aes(x = Date, \n",
    "      y = total_registered_count,\n",
    "      colour = season)) +\n",
    "  geom_point()\n",
    "plot_bad"
   ]
  },
  {
   "cell_type": "code",
   "execution_count": null,
   "metadata": {},
   "outputs": [],
   "source": [
    "# The number of registered rental counts is greater in good weather than the bad weather. \n",
    "# Yes, the CEO is correct the rentals of the bike between 6am and 10pm depends on the yesterday's weathersit between 5pm and 10pm."
   ]
  }
 ],
 "metadata": {
  "kernelspec": {
   "display_name": "R",
   "language": "R",
   "name": "ir"
  },
  "language_info": {
   "codemirror_mode": "r",
   "file_extension": ".r",
   "mimetype": "text/x-r-source",
   "name": "R",
   "pygments_lexer": "r",
   "version": "4.0.2"
  }
 },
 "nbformat": 4,
 "nbformat_minor": 4
}
